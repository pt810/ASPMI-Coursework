{
 "cells": [
  {
   "cell_type": "code",
   "execution_count": 1,
   "metadata": {},
   "outputs": [],
   "source": [
    "%load_ext autoreload\n",
    "%autoreload 2\n",
    "%matplotlib inline"
   ]
  },
  {
   "cell_type": "code",
   "execution_count": 2,
   "metadata": {},
   "outputs": [],
   "source": [
    "import numpy as np\n",
    "import matplotlib.pyplot as plt\n",
    "from hottbox.core import Tensor"
   ]
  },
  {
   "cell_type": "markdown",
   "metadata": {
    "toc-hr-collapsed": false
   },
   "source": [
    "[Return to Table of Contents](./0_Table_of_contents.ipynb)"
   ]
  },
  {
   "cell_type": "markdown",
   "metadata": {
    "toc-hr-collapsed": false
   },
   "source": [
    "# Tensors and basic operations"
   ]
  },
  {
   "cell_type": "markdown",
   "metadata": {
    "toc-hr-collapsed": true
   },
   "source": [
    "<img src=\"./imgs/tensors_dogs.jpg\" alt=\"Drawing\" style=\"width: 500px;\"/>\n",
    "\n",
    "A tensor is a multi-dimensional array of data where each dimension is conventionally referred to as the **mode**. Tensor order is defined by the number of its modes which is equivalent to the number of indices required to identify a particular entry of a multi-dimensional array. For ease of visualisation and compact notation, we consider a third order tensor $\\mathbf{\\underline{X}} \\in \\mathbb{R}^{I \\times J \\times K}$. Thus, an element of such a tensor, $\\mathbf{\\underline{X}} \\in \\mathbb{R}^{I \\times J \\times K}$, can be written in a general form as:\n",
    "\n",
    "$$ x_{ijk} = \\mathbf{\\underline{X}}[i, j, k]$$\n",
    "\n",
    "> **Note:** In order to be consistent with Python indexing, count of modes and elements within starts from zeros.\n",
    "\n",
    "Creation of a tensor starts with a formation of a multidimensional array of data."
   ]
  },
  {
   "cell_type": "code",
   "execution_count": 3,
   "metadata": {},
   "outputs": [
    {
     "name": "stdout",
     "output_type": "stream",
     "text": [
      "This tensor is of order 3 and consists of 24 elements.\n",
      "Sizes and names of its modes are (2, 3, 4) and ['mode-0', 'mode-1', 'mode-2'] respectively.\n"
     ]
    },
    {
     "data": {
      "text/plain": [
       "array([[[ 0,  1,  2,  3],\n",
       "        [ 4,  5,  6,  7],\n",
       "        [ 8,  9, 10, 11]],\n",
       "\n",
       "       [[12, 13, 14, 15],\n",
       "        [16, 17, 18, 19],\n",
       "        [20, 21, 22, 23]]])"
      ]
     },
     "execution_count": 3,
     "metadata": {},
     "output_type": "execute_result"
    }
   ],
   "source": [
    "# Create 3-d array of data\n",
    "array_3d = np.arange(24).reshape((2, 3, 4))\n",
    "\n",
    "# Create tensor\n",
    "tensor = Tensor(array_3d)\n",
    "\n",
    "# Result preview\n",
    "print(tensor)\n",
    "tensor.data"
   ]
  },
  {
   "cell_type": "markdown",
   "metadata": {
    "toc-hr-collapsed": true
   },
   "source": [
    "## **Assignment 1**\n",
    "\n",
    "1. Create a tensor of order 5 (of any shape) and with all its values equal to 5. Then, calculate its Frobenious norm. \n",
    "2. Construct several tensors of orders varying from 3 to 20, with the size of each dimension equal to 2. Plot the relation between an order of a tensor and the number of its elements.\n",
    "3. Construct several tensors of order 3 with the size of each dimension varying from 3 to 15. Plot the relation between the size of dimensions of a tensor and the number of its elements.\n",
    "4. Analyse and compare the so obtained graphs."
   ]
  },
  {
   "cell_type": "markdown",
   "metadata": {},
   "source": [
    "### Solution: Part 1"
   ]
  },
  {
   "cell_type": "code",
   "execution_count": 3,
   "metadata": {},
   "outputs": [
    {
     "name": "stdout",
     "output_type": "stream",
     "text": [
      "This tensor is of order 5 and consists of 3125 elements.\n",
      "Sizes and names of its modes are (5, 5, 5, 5, 5) and ['mode-0', 'mode-1', 'mode-2', 'mode-3', 'mode-4'] respectively.\n"
     ]
    },
    {
     "data": {
      "text/plain": [
       "array([[[[[5, 5, 5, 5, 5],\n",
       "          [5, 5, 5, 5, 5],\n",
       "          [5, 5, 5, 5, 5],\n",
       "          [5, 5, 5, 5, 5],\n",
       "          [5, 5, 5, 5, 5]],\n",
       "\n",
       "         [[5, 5, 5, 5, 5],\n",
       "          [5, 5, 5, 5, 5],\n",
       "          [5, 5, 5, 5, 5],\n",
       "          [5, 5, 5, 5, 5],\n",
       "          [5, 5, 5, 5, 5]],\n",
       "\n",
       "         [[5, 5, 5, 5, 5],\n",
       "          [5, 5, 5, 5, 5],\n",
       "          [5, 5, 5, 5, 5],\n",
       "          [5, 5, 5, 5, 5],\n",
       "          [5, 5, 5, 5, 5]],\n",
       "\n",
       "         [[5, 5, 5, 5, 5],\n",
       "          [5, 5, 5, 5, 5],\n",
       "          [5, 5, 5, 5, 5],\n",
       "          [5, 5, 5, 5, 5],\n",
       "          [5, 5, 5, 5, 5]],\n",
       "\n",
       "         [[5, 5, 5, 5, 5],\n",
       "          [5, 5, 5, 5, 5],\n",
       "          [5, 5, 5, 5, 5],\n",
       "          [5, 5, 5, 5, 5],\n",
       "          [5, 5, 5, 5, 5]]],\n",
       "\n",
       "\n",
       "        [[[5, 5, 5, 5, 5],\n",
       "          [5, 5, 5, 5, 5],\n",
       "          [5, 5, 5, 5, 5],\n",
       "          [5, 5, 5, 5, 5],\n",
       "          [5, 5, 5, 5, 5]],\n",
       "\n",
       "         [[5, 5, 5, 5, 5],\n",
       "          [5, 5, 5, 5, 5],\n",
       "          [5, 5, 5, 5, 5],\n",
       "          [5, 5, 5, 5, 5],\n",
       "          [5, 5, 5, 5, 5]],\n",
       "\n",
       "         [[5, 5, 5, 5, 5],\n",
       "          [5, 5, 5, 5, 5],\n",
       "          [5, 5, 5, 5, 5],\n",
       "          [5, 5, 5, 5, 5],\n",
       "          [5, 5, 5, 5, 5]],\n",
       "\n",
       "         [[5, 5, 5, 5, 5],\n",
       "          [5, 5, 5, 5, 5],\n",
       "          [5, 5, 5, 5, 5],\n",
       "          [5, 5, 5, 5, 5],\n",
       "          [5, 5, 5, 5, 5]],\n",
       "\n",
       "         [[5, 5, 5, 5, 5],\n",
       "          [5, 5, 5, 5, 5],\n",
       "          [5, 5, 5, 5, 5],\n",
       "          [5, 5, 5, 5, 5],\n",
       "          [5, 5, 5, 5, 5]]],\n",
       "\n",
       "\n",
       "        [[[5, 5, 5, 5, 5],\n",
       "          [5, 5, 5, 5, 5],\n",
       "          [5, 5, 5, 5, 5],\n",
       "          [5, 5, 5, 5, 5],\n",
       "          [5, 5, 5, 5, 5]],\n",
       "\n",
       "         [[5, 5, 5, 5, 5],\n",
       "          [5, 5, 5, 5, 5],\n",
       "          [5, 5, 5, 5, 5],\n",
       "          [5, 5, 5, 5, 5],\n",
       "          [5, 5, 5, 5, 5]],\n",
       "\n",
       "         [[5, 5, 5, 5, 5],\n",
       "          [5, 5, 5, 5, 5],\n",
       "          [5, 5, 5, 5, 5],\n",
       "          [5, 5, 5, 5, 5],\n",
       "          [5, 5, 5, 5, 5]],\n",
       "\n",
       "         [[5, 5, 5, 5, 5],\n",
       "          [5, 5, 5, 5, 5],\n",
       "          [5, 5, 5, 5, 5],\n",
       "          [5, 5, 5, 5, 5],\n",
       "          [5, 5, 5, 5, 5]],\n",
       "\n",
       "         [[5, 5, 5, 5, 5],\n",
       "          [5, 5, 5, 5, 5],\n",
       "          [5, 5, 5, 5, 5],\n",
       "          [5, 5, 5, 5, 5],\n",
       "          [5, 5, 5, 5, 5]]],\n",
       "\n",
       "\n",
       "        [[[5, 5, 5, 5, 5],\n",
       "          [5, 5, 5, 5, 5],\n",
       "          [5, 5, 5, 5, 5],\n",
       "          [5, 5, 5, 5, 5],\n",
       "          [5, 5, 5, 5, 5]],\n",
       "\n",
       "         [[5, 5, 5, 5, 5],\n",
       "          [5, 5, 5, 5, 5],\n",
       "          [5, 5, 5, 5, 5],\n",
       "          [5, 5, 5, 5, 5],\n",
       "          [5, 5, 5, 5, 5]],\n",
       "\n",
       "         [[5, 5, 5, 5, 5],\n",
       "          [5, 5, 5, 5, 5],\n",
       "          [5, 5, 5, 5, 5],\n",
       "          [5, 5, 5, 5, 5],\n",
       "          [5, 5, 5, 5, 5]],\n",
       "\n",
       "         [[5, 5, 5, 5, 5],\n",
       "          [5, 5, 5, 5, 5],\n",
       "          [5, 5, 5, 5, 5],\n",
       "          [5, 5, 5, 5, 5],\n",
       "          [5, 5, 5, 5, 5]],\n",
       "\n",
       "         [[5, 5, 5, 5, 5],\n",
       "          [5, 5, 5, 5, 5],\n",
       "          [5, 5, 5, 5, 5],\n",
       "          [5, 5, 5, 5, 5],\n",
       "          [5, 5, 5, 5, 5]]],\n",
       "\n",
       "\n",
       "        [[[5, 5, 5, 5, 5],\n",
       "          [5, 5, 5, 5, 5],\n",
       "          [5, 5, 5, 5, 5],\n",
       "          [5, 5, 5, 5, 5],\n",
       "          [5, 5, 5, 5, 5]],\n",
       "\n",
       "         [[5, 5, 5, 5, 5],\n",
       "          [5, 5, 5, 5, 5],\n",
       "          [5, 5, 5, 5, 5],\n",
       "          [5, 5, 5, 5, 5],\n",
       "          [5, 5, 5, 5, 5]],\n",
       "\n",
       "         [[5, 5, 5, 5, 5],\n",
       "          [5, 5, 5, 5, 5],\n",
       "          [5, 5, 5, 5, 5],\n",
       "          [5, 5, 5, 5, 5],\n",
       "          [5, 5, 5, 5, 5]],\n",
       "\n",
       "         [[5, 5, 5, 5, 5],\n",
       "          [5, 5, 5, 5, 5],\n",
       "          [5, 5, 5, 5, 5],\n",
       "          [5, 5, 5, 5, 5],\n",
       "          [5, 5, 5, 5, 5]],\n",
       "\n",
       "         [[5, 5, 5, 5, 5],\n",
       "          [5, 5, 5, 5, 5],\n",
       "          [5, 5, 5, 5, 5],\n",
       "          [5, 5, 5, 5, 5],\n",
       "          [5, 5, 5, 5, 5]]]],\n",
       "\n",
       "\n",
       "\n",
       "       [[[[5, 5, 5, 5, 5],\n",
       "          [5, 5, 5, 5, 5],\n",
       "          [5, 5, 5, 5, 5],\n",
       "          [5, 5, 5, 5, 5],\n",
       "          [5, 5, 5, 5, 5]],\n",
       "\n",
       "         [[5, 5, 5, 5, 5],\n",
       "          [5, 5, 5, 5, 5],\n",
       "          [5, 5, 5, 5, 5],\n",
       "          [5, 5, 5, 5, 5],\n",
       "          [5, 5, 5, 5, 5]],\n",
       "\n",
       "         [[5, 5, 5, 5, 5],\n",
       "          [5, 5, 5, 5, 5],\n",
       "          [5, 5, 5, 5, 5],\n",
       "          [5, 5, 5, 5, 5],\n",
       "          [5, 5, 5, 5, 5]],\n",
       "\n",
       "         [[5, 5, 5, 5, 5],\n",
       "          [5, 5, 5, 5, 5],\n",
       "          [5, 5, 5, 5, 5],\n",
       "          [5, 5, 5, 5, 5],\n",
       "          [5, 5, 5, 5, 5]],\n",
       "\n",
       "         [[5, 5, 5, 5, 5],\n",
       "          [5, 5, 5, 5, 5],\n",
       "          [5, 5, 5, 5, 5],\n",
       "          [5, 5, 5, 5, 5],\n",
       "          [5, 5, 5, 5, 5]]],\n",
       "\n",
       "\n",
       "        [[[5, 5, 5, 5, 5],\n",
       "          [5, 5, 5, 5, 5],\n",
       "          [5, 5, 5, 5, 5],\n",
       "          [5, 5, 5, 5, 5],\n",
       "          [5, 5, 5, 5, 5]],\n",
       "\n",
       "         [[5, 5, 5, 5, 5],\n",
       "          [5, 5, 5, 5, 5],\n",
       "          [5, 5, 5, 5, 5],\n",
       "          [5, 5, 5, 5, 5],\n",
       "          [5, 5, 5, 5, 5]],\n",
       "\n",
       "         [[5, 5, 5, 5, 5],\n",
       "          [5, 5, 5, 5, 5],\n",
       "          [5, 5, 5, 5, 5],\n",
       "          [5, 5, 5, 5, 5],\n",
       "          [5, 5, 5, 5, 5]],\n",
       "\n",
       "         [[5, 5, 5, 5, 5],\n",
       "          [5, 5, 5, 5, 5],\n",
       "          [5, 5, 5, 5, 5],\n",
       "          [5, 5, 5, 5, 5],\n",
       "          [5, 5, 5, 5, 5]],\n",
       "\n",
       "         [[5, 5, 5, 5, 5],\n",
       "          [5, 5, 5, 5, 5],\n",
       "          [5, 5, 5, 5, 5],\n",
       "          [5, 5, 5, 5, 5],\n",
       "          [5, 5, 5, 5, 5]]],\n",
       "\n",
       "\n",
       "        [[[5, 5, 5, 5, 5],\n",
       "          [5, 5, 5, 5, 5],\n",
       "          [5, 5, 5, 5, 5],\n",
       "          [5, 5, 5, 5, 5],\n",
       "          [5, 5, 5, 5, 5]],\n",
       "\n",
       "         [[5, 5, 5, 5, 5],\n",
       "          [5, 5, 5, 5, 5],\n",
       "          [5, 5, 5, 5, 5],\n",
       "          [5, 5, 5, 5, 5],\n",
       "          [5, 5, 5, 5, 5]],\n",
       "\n",
       "         [[5, 5, 5, 5, 5],\n",
       "          [5, 5, 5, 5, 5],\n",
       "          [5, 5, 5, 5, 5],\n",
       "          [5, 5, 5, 5, 5],\n",
       "          [5, 5, 5, 5, 5]],\n",
       "\n",
       "         [[5, 5, 5, 5, 5],\n",
       "          [5, 5, 5, 5, 5],\n",
       "          [5, 5, 5, 5, 5],\n",
       "          [5, 5, 5, 5, 5],\n",
       "          [5, 5, 5, 5, 5]],\n",
       "\n",
       "         [[5, 5, 5, 5, 5],\n",
       "          [5, 5, 5, 5, 5],\n",
       "          [5, 5, 5, 5, 5],\n",
       "          [5, 5, 5, 5, 5],\n",
       "          [5, 5, 5, 5, 5]]],\n",
       "\n",
       "\n",
       "        [[[5, 5, 5, 5, 5],\n",
       "          [5, 5, 5, 5, 5],\n",
       "          [5, 5, 5, 5, 5],\n",
       "          [5, 5, 5, 5, 5],\n",
       "          [5, 5, 5, 5, 5]],\n",
       "\n",
       "         [[5, 5, 5, 5, 5],\n",
       "          [5, 5, 5, 5, 5],\n",
       "          [5, 5, 5, 5, 5],\n",
       "          [5, 5, 5, 5, 5],\n",
       "          [5, 5, 5, 5, 5]],\n",
       "\n",
       "         [[5, 5, 5, 5, 5],\n",
       "          [5, 5, 5, 5, 5],\n",
       "          [5, 5, 5, 5, 5],\n",
       "          [5, 5, 5, 5, 5],\n",
       "          [5, 5, 5, 5, 5]],\n",
       "\n",
       "         [[5, 5, 5, 5, 5],\n",
       "          [5, 5, 5, 5, 5],\n",
       "          [5, 5, 5, 5, 5],\n",
       "          [5, 5, 5, 5, 5],\n",
       "          [5, 5, 5, 5, 5]],\n",
       "\n",
       "         [[5, 5, 5, 5, 5],\n",
       "          [5, 5, 5, 5, 5],\n",
       "          [5, 5, 5, 5, 5],\n",
       "          [5, 5, 5, 5, 5],\n",
       "          [5, 5, 5, 5, 5]]],\n",
       "\n",
       "\n",
       "        [[[5, 5, 5, 5, 5],\n",
       "          [5, 5, 5, 5, 5],\n",
       "          [5, 5, 5, 5, 5],\n",
       "          [5, 5, 5, 5, 5],\n",
       "          [5, 5, 5, 5, 5]],\n",
       "\n",
       "         [[5, 5, 5, 5, 5],\n",
       "          [5, 5, 5, 5, 5],\n",
       "          [5, 5, 5, 5, 5],\n",
       "          [5, 5, 5, 5, 5],\n",
       "          [5, 5, 5, 5, 5]],\n",
       "\n",
       "         [[5, 5, 5, 5, 5],\n",
       "          [5, 5, 5, 5, 5],\n",
       "          [5, 5, 5, 5, 5],\n",
       "          [5, 5, 5, 5, 5],\n",
       "          [5, 5, 5, 5, 5]],\n",
       "\n",
       "         [[5, 5, 5, 5, 5],\n",
       "          [5, 5, 5, 5, 5],\n",
       "          [5, 5, 5, 5, 5],\n",
       "          [5, 5, 5, 5, 5],\n",
       "          [5, 5, 5, 5, 5]],\n",
       "\n",
       "         [[5, 5, 5, 5, 5],\n",
       "          [5, 5, 5, 5, 5],\n",
       "          [5, 5, 5, 5, 5],\n",
       "          [5, 5, 5, 5, 5],\n",
       "          [5, 5, 5, 5, 5]]]],\n",
       "\n",
       "\n",
       "\n",
       "       [[[[5, 5, 5, 5, 5],\n",
       "          [5, 5, 5, 5, 5],\n",
       "          [5, 5, 5, 5, 5],\n",
       "          [5, 5, 5, 5, 5],\n",
       "          [5, 5, 5, 5, 5]],\n",
       "\n",
       "         [[5, 5, 5, 5, 5],\n",
       "          [5, 5, 5, 5, 5],\n",
       "          [5, 5, 5, 5, 5],\n",
       "          [5, 5, 5, 5, 5],\n",
       "          [5, 5, 5, 5, 5]],\n",
       "\n",
       "         [[5, 5, 5, 5, 5],\n",
       "          [5, 5, 5, 5, 5],\n",
       "          [5, 5, 5, 5, 5],\n",
       "          [5, 5, 5, 5, 5],\n",
       "          [5, 5, 5, 5, 5]],\n",
       "\n",
       "         [[5, 5, 5, 5, 5],\n",
       "          [5, 5, 5, 5, 5],\n",
       "          [5, 5, 5, 5, 5],\n",
       "          [5, 5, 5, 5, 5],\n",
       "          [5, 5, 5, 5, 5]],\n",
       "\n",
       "         [[5, 5, 5, 5, 5],\n",
       "          [5, 5, 5, 5, 5],\n",
       "          [5, 5, 5, 5, 5],\n",
       "          [5, 5, 5, 5, 5],\n",
       "          [5, 5, 5, 5, 5]]],\n",
       "\n",
       "\n",
       "        [[[5, 5, 5, 5, 5],\n",
       "          [5, 5, 5, 5, 5],\n",
       "          [5, 5, 5, 5, 5],\n",
       "          [5, 5, 5, 5, 5],\n",
       "          [5, 5, 5, 5, 5]],\n",
       "\n",
       "         [[5, 5, 5, 5, 5],\n",
       "          [5, 5, 5, 5, 5],\n",
       "          [5, 5, 5, 5, 5],\n",
       "          [5, 5, 5, 5, 5],\n",
       "          [5, 5, 5, 5, 5]],\n",
       "\n",
       "         [[5, 5, 5, 5, 5],\n",
       "          [5, 5, 5, 5, 5],\n",
       "          [5, 5, 5, 5, 5],\n",
       "          [5, 5, 5, 5, 5],\n",
       "          [5, 5, 5, 5, 5]],\n",
       "\n",
       "         [[5, 5, 5, 5, 5],\n",
       "          [5, 5, 5, 5, 5],\n",
       "          [5, 5, 5, 5, 5],\n",
       "          [5, 5, 5, 5, 5],\n",
       "          [5, 5, 5, 5, 5]],\n",
       "\n",
       "         [[5, 5, 5, 5, 5],\n",
       "          [5, 5, 5, 5, 5],\n",
       "          [5, 5, 5, 5, 5],\n",
       "          [5, 5, 5, 5, 5],\n",
       "          [5, 5, 5, 5, 5]]],\n",
       "\n",
       "\n",
       "        [[[5, 5, 5, 5, 5],\n",
       "          [5, 5, 5, 5, 5],\n",
       "          [5, 5, 5, 5, 5],\n",
       "          [5, 5, 5, 5, 5],\n",
       "          [5, 5, 5, 5, 5]],\n",
       "\n",
       "         [[5, 5, 5, 5, 5],\n",
       "          [5, 5, 5, 5, 5],\n",
       "          [5, 5, 5, 5, 5],\n",
       "          [5, 5, 5, 5, 5],\n",
       "          [5, 5, 5, 5, 5]],\n",
       "\n",
       "         [[5, 5, 5, 5, 5],\n",
       "          [5, 5, 5, 5, 5],\n",
       "          [5, 5, 5, 5, 5],\n",
       "          [5, 5, 5, 5, 5],\n",
       "          [5, 5, 5, 5, 5]],\n",
       "\n",
       "         [[5, 5, 5, 5, 5],\n",
       "          [5, 5, 5, 5, 5],\n",
       "          [5, 5, 5, 5, 5],\n",
       "          [5, 5, 5, 5, 5],\n",
       "          [5, 5, 5, 5, 5]],\n",
       "\n",
       "         [[5, 5, 5, 5, 5],\n",
       "          [5, 5, 5, 5, 5],\n",
       "          [5, 5, 5, 5, 5],\n",
       "          [5, 5, 5, 5, 5],\n",
       "          [5, 5, 5, 5, 5]]],\n",
       "\n",
       "\n",
       "        [[[5, 5, 5, 5, 5],\n",
       "          [5, 5, 5, 5, 5],\n",
       "          [5, 5, 5, 5, 5],\n",
       "          [5, 5, 5, 5, 5],\n",
       "          [5, 5, 5, 5, 5]],\n",
       "\n",
       "         [[5, 5, 5, 5, 5],\n",
       "          [5, 5, 5, 5, 5],\n",
       "          [5, 5, 5, 5, 5],\n",
       "          [5, 5, 5, 5, 5],\n",
       "          [5, 5, 5, 5, 5]],\n",
       "\n",
       "         [[5, 5, 5, 5, 5],\n",
       "          [5, 5, 5, 5, 5],\n",
       "          [5, 5, 5, 5, 5],\n",
       "          [5, 5, 5, 5, 5],\n",
       "          [5, 5, 5, 5, 5]],\n",
       "\n",
       "         [[5, 5, 5, 5, 5],\n",
       "          [5, 5, 5, 5, 5],\n",
       "          [5, 5, 5, 5, 5],\n",
       "          [5, 5, 5, 5, 5],\n",
       "          [5, 5, 5, 5, 5]],\n",
       "\n",
       "         [[5, 5, 5, 5, 5],\n",
       "          [5, 5, 5, 5, 5],\n",
       "          [5, 5, 5, 5, 5],\n",
       "          [5, 5, 5, 5, 5],\n",
       "          [5, 5, 5, 5, 5]]],\n",
       "\n",
       "\n",
       "        [[[5, 5, 5, 5, 5],\n",
       "          [5, 5, 5, 5, 5],\n",
       "          [5, 5, 5, 5, 5],\n",
       "          [5, 5, 5, 5, 5],\n",
       "          [5, 5, 5, 5, 5]],\n",
       "\n",
       "         [[5, 5, 5, 5, 5],\n",
       "          [5, 5, 5, 5, 5],\n",
       "          [5, 5, 5, 5, 5],\n",
       "          [5, 5, 5, 5, 5],\n",
       "          [5, 5, 5, 5, 5]],\n",
       "\n",
       "         [[5, 5, 5, 5, 5],\n",
       "          [5, 5, 5, 5, 5],\n",
       "          [5, 5, 5, 5, 5],\n",
       "          [5, 5, 5, 5, 5],\n",
       "          [5, 5, 5, 5, 5]],\n",
       "\n",
       "         [[5, 5, 5, 5, 5],\n",
       "          [5, 5, 5, 5, 5],\n",
       "          [5, 5, 5, 5, 5],\n",
       "          [5, 5, 5, 5, 5],\n",
       "          [5, 5, 5, 5, 5]],\n",
       "\n",
       "         [[5, 5, 5, 5, 5],\n",
       "          [5, 5, 5, 5, 5],\n",
       "          [5, 5, 5, 5, 5],\n",
       "          [5, 5, 5, 5, 5],\n",
       "          [5, 5, 5, 5, 5]]]],\n",
       "\n",
       "\n",
       "\n",
       "       [[[[5, 5, 5, 5, 5],\n",
       "          [5, 5, 5, 5, 5],\n",
       "          [5, 5, 5, 5, 5],\n",
       "          [5, 5, 5, 5, 5],\n",
       "          [5, 5, 5, 5, 5]],\n",
       "\n",
       "         [[5, 5, 5, 5, 5],\n",
       "          [5, 5, 5, 5, 5],\n",
       "          [5, 5, 5, 5, 5],\n",
       "          [5, 5, 5, 5, 5],\n",
       "          [5, 5, 5, 5, 5]],\n",
       "\n",
       "         [[5, 5, 5, 5, 5],\n",
       "          [5, 5, 5, 5, 5],\n",
       "          [5, 5, 5, 5, 5],\n",
       "          [5, 5, 5, 5, 5],\n",
       "          [5, 5, 5, 5, 5]],\n",
       "\n",
       "         [[5, 5, 5, 5, 5],\n",
       "          [5, 5, 5, 5, 5],\n",
       "          [5, 5, 5, 5, 5],\n",
       "          [5, 5, 5, 5, 5],\n",
       "          [5, 5, 5, 5, 5]],\n",
       "\n",
       "         [[5, 5, 5, 5, 5],\n",
       "          [5, 5, 5, 5, 5],\n",
       "          [5, 5, 5, 5, 5],\n",
       "          [5, 5, 5, 5, 5],\n",
       "          [5, 5, 5, 5, 5]]],\n",
       "\n",
       "\n",
       "        [[[5, 5, 5, 5, 5],\n",
       "          [5, 5, 5, 5, 5],\n",
       "          [5, 5, 5, 5, 5],\n",
       "          [5, 5, 5, 5, 5],\n",
       "          [5, 5, 5, 5, 5]],\n",
       "\n",
       "         [[5, 5, 5, 5, 5],\n",
       "          [5, 5, 5, 5, 5],\n",
       "          [5, 5, 5, 5, 5],\n",
       "          [5, 5, 5, 5, 5],\n",
       "          [5, 5, 5, 5, 5]],\n",
       "\n",
       "         [[5, 5, 5, 5, 5],\n",
       "          [5, 5, 5, 5, 5],\n",
       "          [5, 5, 5, 5, 5],\n",
       "          [5, 5, 5, 5, 5],\n",
       "          [5, 5, 5, 5, 5]],\n",
       "\n",
       "         [[5, 5, 5, 5, 5],\n",
       "          [5, 5, 5, 5, 5],\n",
       "          [5, 5, 5, 5, 5],\n",
       "          [5, 5, 5, 5, 5],\n",
       "          [5, 5, 5, 5, 5]],\n",
       "\n",
       "         [[5, 5, 5, 5, 5],\n",
       "          [5, 5, 5, 5, 5],\n",
       "          [5, 5, 5, 5, 5],\n",
       "          [5, 5, 5, 5, 5],\n",
       "          [5, 5, 5, 5, 5]]],\n",
       "\n",
       "\n",
       "        [[[5, 5, 5, 5, 5],\n",
       "          [5, 5, 5, 5, 5],\n",
       "          [5, 5, 5, 5, 5],\n",
       "          [5, 5, 5, 5, 5],\n",
       "          [5, 5, 5, 5, 5]],\n",
       "\n",
       "         [[5, 5, 5, 5, 5],\n",
       "          [5, 5, 5, 5, 5],\n",
       "          [5, 5, 5, 5, 5],\n",
       "          [5, 5, 5, 5, 5],\n",
       "          [5, 5, 5, 5, 5]],\n",
       "\n",
       "         [[5, 5, 5, 5, 5],\n",
       "          [5, 5, 5, 5, 5],\n",
       "          [5, 5, 5, 5, 5],\n",
       "          [5, 5, 5, 5, 5],\n",
       "          [5, 5, 5, 5, 5]],\n",
       "\n",
       "         [[5, 5, 5, 5, 5],\n",
       "          [5, 5, 5, 5, 5],\n",
       "          [5, 5, 5, 5, 5],\n",
       "          [5, 5, 5, 5, 5],\n",
       "          [5, 5, 5, 5, 5]],\n",
       "\n",
       "         [[5, 5, 5, 5, 5],\n",
       "          [5, 5, 5, 5, 5],\n",
       "          [5, 5, 5, 5, 5],\n",
       "          [5, 5, 5, 5, 5],\n",
       "          [5, 5, 5, 5, 5]]],\n",
       "\n",
       "\n",
       "        [[[5, 5, 5, 5, 5],\n",
       "          [5, 5, 5, 5, 5],\n",
       "          [5, 5, 5, 5, 5],\n",
       "          [5, 5, 5, 5, 5],\n",
       "          [5, 5, 5, 5, 5]],\n",
       "\n",
       "         [[5, 5, 5, 5, 5],\n",
       "          [5, 5, 5, 5, 5],\n",
       "          [5, 5, 5, 5, 5],\n",
       "          [5, 5, 5, 5, 5],\n",
       "          [5, 5, 5, 5, 5]],\n",
       "\n",
       "         [[5, 5, 5, 5, 5],\n",
       "          [5, 5, 5, 5, 5],\n",
       "          [5, 5, 5, 5, 5],\n",
       "          [5, 5, 5, 5, 5],\n",
       "          [5, 5, 5, 5, 5]],\n",
       "\n",
       "         [[5, 5, 5, 5, 5],\n",
       "          [5, 5, 5, 5, 5],\n",
       "          [5, 5, 5, 5, 5],\n",
       "          [5, 5, 5, 5, 5],\n",
       "          [5, 5, 5, 5, 5]],\n",
       "\n",
       "         [[5, 5, 5, 5, 5],\n",
       "          [5, 5, 5, 5, 5],\n",
       "          [5, 5, 5, 5, 5],\n",
       "          [5, 5, 5, 5, 5],\n",
       "          [5, 5, 5, 5, 5]]],\n",
       "\n",
       "\n",
       "        [[[5, 5, 5, 5, 5],\n",
       "          [5, 5, 5, 5, 5],\n",
       "          [5, 5, 5, 5, 5],\n",
       "          [5, 5, 5, 5, 5],\n",
       "          [5, 5, 5, 5, 5]],\n",
       "\n",
       "         [[5, 5, 5, 5, 5],\n",
       "          [5, 5, 5, 5, 5],\n",
       "          [5, 5, 5, 5, 5],\n",
       "          [5, 5, 5, 5, 5],\n",
       "          [5, 5, 5, 5, 5]],\n",
       "\n",
       "         [[5, 5, 5, 5, 5],\n",
       "          [5, 5, 5, 5, 5],\n",
       "          [5, 5, 5, 5, 5],\n",
       "          [5, 5, 5, 5, 5],\n",
       "          [5, 5, 5, 5, 5]],\n",
       "\n",
       "         [[5, 5, 5, 5, 5],\n",
       "          [5, 5, 5, 5, 5],\n",
       "          [5, 5, 5, 5, 5],\n",
       "          [5, 5, 5, 5, 5],\n",
       "          [5, 5, 5, 5, 5]],\n",
       "\n",
       "         [[5, 5, 5, 5, 5],\n",
       "          [5, 5, 5, 5, 5],\n",
       "          [5, 5, 5, 5, 5],\n",
       "          [5, 5, 5, 5, 5],\n",
       "          [5, 5, 5, 5, 5]]]],\n",
       "\n",
       "\n",
       "\n",
       "       [[[[5, 5, 5, 5, 5],\n",
       "          [5, 5, 5, 5, 5],\n",
       "          [5, 5, 5, 5, 5],\n",
       "          [5, 5, 5, 5, 5],\n",
       "          [5, 5, 5, 5, 5]],\n",
       "\n",
       "         [[5, 5, 5, 5, 5],\n",
       "          [5, 5, 5, 5, 5],\n",
       "          [5, 5, 5, 5, 5],\n",
       "          [5, 5, 5, 5, 5],\n",
       "          [5, 5, 5, 5, 5]],\n",
       "\n",
       "         [[5, 5, 5, 5, 5],\n",
       "          [5, 5, 5, 5, 5],\n",
       "          [5, 5, 5, 5, 5],\n",
       "          [5, 5, 5, 5, 5],\n",
       "          [5, 5, 5, 5, 5]],\n",
       "\n",
       "         [[5, 5, 5, 5, 5],\n",
       "          [5, 5, 5, 5, 5],\n",
       "          [5, 5, 5, 5, 5],\n",
       "          [5, 5, 5, 5, 5],\n",
       "          [5, 5, 5, 5, 5]],\n",
       "\n",
       "         [[5, 5, 5, 5, 5],\n",
       "          [5, 5, 5, 5, 5],\n",
       "          [5, 5, 5, 5, 5],\n",
       "          [5, 5, 5, 5, 5],\n",
       "          [5, 5, 5, 5, 5]]],\n",
       "\n",
       "\n",
       "        [[[5, 5, 5, 5, 5],\n",
       "          [5, 5, 5, 5, 5],\n",
       "          [5, 5, 5, 5, 5],\n",
       "          [5, 5, 5, 5, 5],\n",
       "          [5, 5, 5, 5, 5]],\n",
       "\n",
       "         [[5, 5, 5, 5, 5],\n",
       "          [5, 5, 5, 5, 5],\n",
       "          [5, 5, 5, 5, 5],\n",
       "          [5, 5, 5, 5, 5],\n",
       "          [5, 5, 5, 5, 5]],\n",
       "\n",
       "         [[5, 5, 5, 5, 5],\n",
       "          [5, 5, 5, 5, 5],\n",
       "          [5, 5, 5, 5, 5],\n",
       "          [5, 5, 5, 5, 5],\n",
       "          [5, 5, 5, 5, 5]],\n",
       "\n",
       "         [[5, 5, 5, 5, 5],\n",
       "          [5, 5, 5, 5, 5],\n",
       "          [5, 5, 5, 5, 5],\n",
       "          [5, 5, 5, 5, 5],\n",
       "          [5, 5, 5, 5, 5]],\n",
       "\n",
       "         [[5, 5, 5, 5, 5],\n",
       "          [5, 5, 5, 5, 5],\n",
       "          [5, 5, 5, 5, 5],\n",
       "          [5, 5, 5, 5, 5],\n",
       "          [5, 5, 5, 5, 5]]],\n",
       "\n",
       "\n",
       "        [[[5, 5, 5, 5, 5],\n",
       "          [5, 5, 5, 5, 5],\n",
       "          [5, 5, 5, 5, 5],\n",
       "          [5, 5, 5, 5, 5],\n",
       "          [5, 5, 5, 5, 5]],\n",
       "\n",
       "         [[5, 5, 5, 5, 5],\n",
       "          [5, 5, 5, 5, 5],\n",
       "          [5, 5, 5, 5, 5],\n",
       "          [5, 5, 5, 5, 5],\n",
       "          [5, 5, 5, 5, 5]],\n",
       "\n",
       "         [[5, 5, 5, 5, 5],\n",
       "          [5, 5, 5, 5, 5],\n",
       "          [5, 5, 5, 5, 5],\n",
       "          [5, 5, 5, 5, 5],\n",
       "          [5, 5, 5, 5, 5]],\n",
       "\n",
       "         [[5, 5, 5, 5, 5],\n",
       "          [5, 5, 5, 5, 5],\n",
       "          [5, 5, 5, 5, 5],\n",
       "          [5, 5, 5, 5, 5],\n",
       "          [5, 5, 5, 5, 5]],\n",
       "\n",
       "         [[5, 5, 5, 5, 5],\n",
       "          [5, 5, 5, 5, 5],\n",
       "          [5, 5, 5, 5, 5],\n",
       "          [5, 5, 5, 5, 5],\n",
       "          [5, 5, 5, 5, 5]]],\n",
       "\n",
       "\n",
       "        [[[5, 5, 5, 5, 5],\n",
       "          [5, 5, 5, 5, 5],\n",
       "          [5, 5, 5, 5, 5],\n",
       "          [5, 5, 5, 5, 5],\n",
       "          [5, 5, 5, 5, 5]],\n",
       "\n",
       "         [[5, 5, 5, 5, 5],\n",
       "          [5, 5, 5, 5, 5],\n",
       "          [5, 5, 5, 5, 5],\n",
       "          [5, 5, 5, 5, 5],\n",
       "          [5, 5, 5, 5, 5]],\n",
       "\n",
       "         [[5, 5, 5, 5, 5],\n",
       "          [5, 5, 5, 5, 5],\n",
       "          [5, 5, 5, 5, 5],\n",
       "          [5, 5, 5, 5, 5],\n",
       "          [5, 5, 5, 5, 5]],\n",
       "\n",
       "         [[5, 5, 5, 5, 5],\n",
       "          [5, 5, 5, 5, 5],\n",
       "          [5, 5, 5, 5, 5],\n",
       "          [5, 5, 5, 5, 5],\n",
       "          [5, 5, 5, 5, 5]],\n",
       "\n",
       "         [[5, 5, 5, 5, 5],\n",
       "          [5, 5, 5, 5, 5],\n",
       "          [5, 5, 5, 5, 5],\n",
       "          [5, 5, 5, 5, 5],\n",
       "          [5, 5, 5, 5, 5]]],\n",
       "\n",
       "\n",
       "        [[[5, 5, 5, 5, 5],\n",
       "          [5, 5, 5, 5, 5],\n",
       "          [5, 5, 5, 5, 5],\n",
       "          [5, 5, 5, 5, 5],\n",
       "          [5, 5, 5, 5, 5]],\n",
       "\n",
       "         [[5, 5, 5, 5, 5],\n",
       "          [5, 5, 5, 5, 5],\n",
       "          [5, 5, 5, 5, 5],\n",
       "          [5, 5, 5, 5, 5],\n",
       "          [5, 5, 5, 5, 5]],\n",
       "\n",
       "         [[5, 5, 5, 5, 5],\n",
       "          [5, 5, 5, 5, 5],\n",
       "          [5, 5, 5, 5, 5],\n",
       "          [5, 5, 5, 5, 5],\n",
       "          [5, 5, 5, 5, 5]],\n",
       "\n",
       "         [[5, 5, 5, 5, 5],\n",
       "          [5, 5, 5, 5, 5],\n",
       "          [5, 5, 5, 5, 5],\n",
       "          [5, 5, 5, 5, 5],\n",
       "          [5, 5, 5, 5, 5]],\n",
       "\n",
       "         [[5, 5, 5, 5, 5],\n",
       "          [5, 5, 5, 5, 5],\n",
       "          [5, 5, 5, 5, 5],\n",
       "          [5, 5, 5, 5, 5],\n",
       "          [5, 5, 5, 5, 5]]]]])"
      ]
     },
     "execution_count": 3,
     "metadata": {},
     "output_type": "execute_result"
    }
   ],
   "source": [
    "# Create a tensor\n",
    "elements = [5]*3125\n",
    "array_5d = np.array(elements).reshape((5,5,5,5,5))\n",
    "\n",
    "tensor_5d = Tensor(array_5d)\n",
    "print(tensor_5d)\n",
    "tensor_5d.data"
   ]
  },
  {
   "cell_type": "code",
   "execution_count": 4,
   "metadata": {},
   "outputs": [
    {
     "name": "stdout",
     "output_type": "stream",
     "text": [
      "279.5084971874737\n"
     ]
    }
   ],
   "source": [
    "# Calculate Frobenious norm\n",
    "frobenius_norm = tensor_5d.frob_norm\n",
    "print(frobenius_norm)"
   ]
  },
  {
   "cell_type": "markdown",
   "metadata": {},
   "source": [
    "### Solution: Part 2"
   ]
  },
  {
   "cell_type": "code",
   "execution_count": 5,
   "metadata": {},
   "outputs": [],
   "source": [
    "# Create tensors and collect information\n",
    "tensors = []\n",
    "element_counts = []\n",
    "\n",
    "dimensions = [2]\n",
    "\n",
    "orders = range(3, 21)\n",
    "\n",
    "for order in orders:\n",
    "    tensor = np.ones(dimensions * order)\n",
    "    tensors.append(tensor)\n",
    "    element_counts.append(tensor.size)"
   ]
  },
  {
   "cell_type": "code",
   "execution_count": 6,
   "metadata": {},
   "outputs": [
    {
     "data": {
      "image/png": "[encoded data removed]",
      "text/plain": [
       "<Figure size 432x288 with 1 Axes>"
      ]
     },
     "metadata": {
      "needs_background": "light"
     },
     "output_type": "display_data"
    }
   ],
   "source": [
    "# Plot results\n",
    "plt.plot(orders, element_counts)\n",
    "plt.legend(['Dimensions = 2'])\n",
    "plt.title('Tensor Order vs Number of Elements')\n",
    "plt.xlabel('Tensor Order')\n",
    "plt.ylabel('Number of Elements')\n",
    "plt.grid(True)\n",
    "plt.show()"
   ]
  },
  {
   "cell_type": "markdown",
   "metadata": {},
   "source": [
    "### Solution: Part 3"
   ]
  },
  {
   "cell_type": "code",
   "execution_count": 7,
   "metadata": {},
   "outputs": [],
   "source": [
    "# Create tensors and collect information\n",
    "tensors = []\n",
    "element_counts = []\n",
    "\n",
    "order = 3\n",
    "\n",
    "sizes = range(3, 16)\n",
    "\n",
    "for size in sizes:\n",
    "    tensor = np.ones(order * [size])\n",
    "    tensors.append(tensor)\n",
    "    element_counts.append(tensor.size)"
   ]
  },
  {
   "cell_type": "code",
   "execution_count": 8,
   "metadata": {},
   "outputs": [
    {
     "data": {
      "image/png": "[encoded data removed]",
      "text/plain": [
       "<Figure size 432x288 with 1 Axes>"
      ]
     },
     "metadata": {
      "needs_background": "light"
     },
     "output_type": "display_data"
    }
   ],
   "source": [
    "# Plot results\n",
    "plt.plot(sizes, element_counts)\n",
    "plt.legend(['Order = 3'])\n",
    "plt.title('Dimension Size vs. Number of Elements')\n",
    "plt.xlabel('Dimension')\n",
    "plt.ylabel('Number of Elements')\n",
    "plt.grid(True)\n",
    "plt.show()"
   ]
  },
  {
   "cell_type": "markdown",
   "metadata": {},
   "source": [
    "### Solution: Part 4"
   ]
  },
  {
   "cell_type": "markdown",
   "metadata": {},
   "source": [
    "The correlation between tensor order and the total number of elements exhibits an exponential trend; whereas, the relationship between tensor dimension and the number of elements follows a polynomial pattern. Consequently, augmenting the tensor's order significantly escalates the memory demand compared to enlarging its dimension size, as exponentials grow much faster than polynomials."
   ]
  },
  {
   "cell_type": "markdown",
   "metadata": {
    "toc-hr-collapsed": false
   },
   "source": [
    "# Most common tensor substructures\n",
    "<img src=\"./imgs/tensor_substructures.png\" alt=\"Drawing\" style=\"width: 500px;\"/>\n",
    "\n",
    "1. A **fiber** is a vector obtained by fixing all but one of the indices, e.g.  $\\mathbf{\\underline{X}}[i,:,k]$ is the mode-2 fiber $\\mathbf{\\underline{X}}$ (usually refered to as row fiber). \n",
    "\n",
    "1. Fixing all but two of the indices yields a matrix called a **slice** of a tensor, e.g. $\\mathbf{\\underline{X}}[:,:,k]$ is the mode-[1,2] slice (usually refered to as the frontal slice).\n",
    "\n",
    "**Note:** The same principles and definitions can be applied to a tensor of an arbitrarily large order. In addition, you can obtain a **subtensor** by fixing at least three indices and letting the remaining ones vary."
   ]
  },
  {
   "cell_type": "code",
   "execution_count": null,
   "metadata": {},
   "outputs": [],
   "source": [
    "# Mode-2 fiber\n",
    "tensor.data[0,1,:]"
   ]
  },
  {
   "cell_type": "code",
   "execution_count": null,
   "metadata": {},
   "outputs": [],
   "source": [
    "# Frontal slice\n",
    "tensor.data[0,:,:]"
   ]
  },
  {
   "cell_type": "markdown",
   "metadata": {
    "toc-hr-collapsed": true
   },
   "source": [
    "## **Assignment 2**\n",
    "\n",
    "1. Create a tensor of order 4 which consists of 81 elements and display all its horizontal slices and any five row fibers.\n",
    "2. Create a tensor of order 3 and shape `(4,2,5)`, where the values of each consequent frontal slice are doubled."
   ]
  },
  {
   "cell_type": "markdown",
   "metadata": {},
   "source": [
    "### Solution: Part 1"
   ]
  },
  {
   "cell_type": "code",
   "execution_count": 9,
   "metadata": {},
   "outputs": [
    {
     "name": "stdout",
     "output_type": "stream",
     "text": [
      "This tensor is of order 4 and consists of 81 elements.\n",
      "Sizes and names of its modes are (3, 3, 3, 3) and ['mode-0', 'mode-1', 'mode-2', 'mode-3'] respectively.\n"
     ]
    },
    {
     "data": {
      "text/plain": [
       "array([[[[ 0,  1,  2],\n",
       "         [ 3,  4,  5],\n",
       "         [ 6,  7,  8]],\n",
       "\n",
       "        [[ 9, 10, 11],\n",
       "         [12, 13, 14],\n",
       "         [15, 16, 17]],\n",
       "\n",
       "        [[18, 19, 20],\n",
       "         [21, 22, 23],\n",
       "         [24, 25, 26]]],\n",
       "\n",
       "\n",
       "       [[[27, 28, 29],\n",
       "         [30, 31, 32],\n",
       "         [33, 34, 35]],\n",
       "\n",
       "        [[36, 37, 38],\n",
       "         [39, 40, 41],\n",
       "         [42, 43, 44]],\n",
       "\n",
       "        [[45, 46, 47],\n",
       "         [48, 49, 50],\n",
       "         [51, 52, 53]]],\n",
       "\n",
       "\n",
       "       [[[54, 55, 56],\n",
       "         [57, 58, 59],\n",
       "         [60, 61, 62]],\n",
       "\n",
       "        [[63, 64, 65],\n",
       "         [66, 67, 68],\n",
       "         [69, 70, 71]],\n",
       "\n",
       "        [[72, 73, 74],\n",
       "         [75, 76, 77],\n",
       "         [78, 79, 80]]]])"
      ]
     },
     "execution_count": 9,
     "metadata": {},
     "output_type": "execute_result"
    }
   ],
   "source": [
    "# Create a tensor of order 4\n",
    "tensor_4d = Tensor(np.arange(81).reshape((3,3,3,3)))\n",
    "print(tensor_4d)\n",
    "tensor_4d.data"
   ]
  },
  {
   "cell_type": "code",
   "execution_count": 10,
   "metadata": {},
   "outputs": [
    {
     "name": "stdout",
     "output_type": "stream",
     "text": [
      "tensor_4d(0,:,:,0)\n",
      "[[ 0  3  6]\n",
      " [ 9 12 15]\n",
      " [18 21 24]] \n",
      "\n",
      "tensor_4d(0,:,:,1)\n",
      "[[ 1  4  7]\n",
      " [10 13 16]\n",
      " [19 22 25]] \n",
      "\n",
      "tensor_4d(0,:,:,2)\n",
      "[[ 2  5  8]\n",
      " [11 14 17]\n",
      " [20 23 26]] \n",
      "\n",
      "tensor_4d(1,:,:,0)\n",
      "[[27 30 33]\n",
      " [36 39 42]\n",
      " [45 48 51]] \n",
      "\n",
      "tensor_4d(1,:,:,1)\n",
      "[[28 31 34]\n",
      " [37 40 43]\n",
      " [46 49 52]] \n",
      "\n",
      "tensor_4d(1,:,:,2)\n",
      "[[29 32 35]\n",
      " [38 41 44]\n",
      " [47 50 53]] \n",
      "\n",
      "tensor_4d(2,:,:,0)\n",
      "[[54 57 60]\n",
      " [63 66 69]\n",
      " [72 75 78]] \n",
      "\n",
      "tensor_4d(2,:,:,1)\n",
      "[[55 58 61]\n",
      " [64 67 70]\n",
      " [73 76 79]] \n",
      "\n",
      "tensor_4d(2,:,:,2)\n",
      "[[56 59 62]\n",
      " [65 68 71]\n",
      " [74 77 80]] \n",
      "\n"
     ]
    }
   ],
   "source": [
    "# Display slices\n",
    "for i in range(3):\n",
    "    for j in range(3):\n",
    "        print('tensor_4d({a},:,:,{b})'.format(a=i,b=j))\n",
    "        print(tensor_4d.data[i,:,:,j], '\\n')"
   ]
  },
  {
   "cell_type": "code",
   "execution_count": 11,
   "metadata": {},
   "outputs": [
    {
     "name": "stdout",
     "output_type": "stream",
     "text": [
      "tensor_4d(0,:,0,1)\n",
      "[ 1 10 19] \n",
      "\n",
      "tensor_4d(0,:,1,1)\n",
      "[ 4 13 22] \n",
      "\n",
      "tensor_4d(0,:,2,1)\n",
      "[ 7 16 25] \n",
      "\n",
      "tensor_4d(1,:,0,1)\n",
      "[28 37 46] \n",
      "\n",
      "tensor_4d(1,:,1,1)\n",
      "[31 40 49] \n",
      "\n"
     ]
    }
   ],
   "source": [
    "# Display fibers\n",
    "for (i,j) in [(0,0),(0,1),(0,2),(1,0),(1,1)]:\n",
    "    print('tensor_4d({a},:,{b},1)'.format(a=i,b=j))\n",
    "    print(tensor_4d.data[i,:,j,1], '\\n')"
   ]
  },
  {
   "cell_type": "markdown",
   "metadata": {},
   "source": [
    "### Solution: Part 2"
   ]
  },
  {
   "cell_type": "code",
   "execution_count": 12,
   "metadata": {},
   "outputs": [
    {
     "name": "stdout",
     "output_type": "stream",
     "text": [
      "tensor_3d(:,:,0)\n",
      "[[1. 1.]\n",
      " [1. 1.]\n",
      " [1. 1.]\n",
      " [1. 1.]]\n",
      "tensor_3d(:,:,1)\n",
      "[[2. 2.]\n",
      " [2. 2.]\n",
      " [2. 2.]\n",
      " [2. 2.]]\n",
      "tensor_3d(:,:,2)\n",
      "[[4. 4.]\n",
      " [4. 4.]\n",
      " [4. 4.]\n",
      " [4. 4.]]\n",
      "tensor_3d(:,:,3)\n",
      "[[8. 8.]\n",
      " [8. 8.]\n",
      " [8. 8.]\n",
      " [8. 8.]]\n",
      "tensor_3d(:,:,4)\n",
      "[[16. 16.]\n",
      " [16. 16.]\n",
      " [16. 16.]\n",
      " [16. 16.]]\n"
     ]
    }
   ],
   "source": [
    "# Create a tensor of order 3\n",
    "tensor_3d = Tensor(np.ones(40).reshape((4,2,5)))\n",
    "\n",
    "for i in range(5):\n",
    "    tensor_3d.data[:,:,i] *= 2**i\n",
    "    print('tensor_3d(:,:,{})'.format(i))\n",
    "    print(tensor_3d.data[:,:,i])"
   ]
  },
  {
   "cell_type": "markdown",
   "metadata": {
    "toc-hr-collapsed": false
   },
   "source": [
    "# Unfolding\n",
    "\n",
    "Conventionally, unfolding is considered to be a process of element mapping from a tensor to a matrix. In other words, it arranges the mode-$n$ fibers of a tensor to be the matrix columns. Thus, the mode-$n$ unfolding is denoted as:\n",
    "\n",
    "$$\\mathbf{\\underline{A}} \\xrightarrow{n} \\mathbf{A}_{(n)}$$\n",
    "\n",
    "Thus, this operations requires to specify a mode along which a tensor will be unfolded. For a third order tensor, a visual representation of such operation is as following\n",
    "\n",
    "<img src=\"./imgs/unfolding.png\" alt=\"Drawing\" style=\"width: 600px;\"/>\n",
    "\n",
    "In `hottbox` this functionality is available through the corresponding methods of the `Tensor` object, for instance:"
   ]
  },
  {
   "cell_type": "code",
   "execution_count": null,
   "metadata": {},
   "outputs": [],
   "source": [
    "# Create 3-d array of data\n",
    "array_3d = np.arange(24).reshape((2, 3, 4))\n",
    "\n",
    "# Create tensor\n",
    "tensor = Tensor(array_3d)\n",
    "\n",
    "# Unfolding of a tensor\n",
    "tensor.unfold(mode=0)\n",
    "\n",
    "# Result preview\n",
    "print(tensor)\n",
    "tensor.data"
   ]
  },
  {
   "cell_type": "markdown",
   "metadata": {
    "toc-hr-collapsed": true
   },
   "source": [
    "## **Assignment 3**\n",
    "\n",
    "1. Create a tensor, $\\mathbf{\\underline{A}}$, of order 4, in such a way that its version unfolded along the second mode would have sizes `(5,72)`, that is $\\mathbf{A}_{(n)} \\in  \\mathbb{R}^{5 \\times 72}$. Validate your results by displaying the unfolded tensor."
   ]
  },
  {
   "cell_type": "markdown",
   "metadata": {},
   "source": [
    "### Solution : Part 1"
   ]
  },
  {
   "cell_type": "code",
   "execution_count": 13,
   "metadata": {},
   "outputs": [
    {
     "name": "stdout",
     "output_type": "stream",
     "text": [
      "This tensor is of order 4 and consists of 360 elements.\n",
      "Sizes and names of its modes are (3, 5, 3, 8) and ['mode-0', 'mode-1', 'mode-2', 'mode-3'] respectively.\n"
     ]
    },
    {
     "data": {
      "text/plain": [
       "array([[[[  0,   1,   2,   3,   4,   5,   6,   7],\n",
       "         [  8,   9,  10,  11,  12,  13,  14,  15],\n",
       "         [ 16,  17,  18,  19,  20,  21,  22,  23]],\n",
       "\n",
       "        [[ 24,  25,  26,  27,  28,  29,  30,  31],\n",
       "         [ 32,  33,  34,  35,  36,  37,  38,  39],\n",
       "         [ 40,  41,  42,  43,  44,  45,  46,  47]],\n",
       "\n",
       "        [[ 48,  49,  50,  51,  52,  53,  54,  55],\n",
       "         [ 56,  57,  58,  59,  60,  61,  62,  63],\n",
       "         [ 64,  65,  66,  67,  68,  69,  70,  71]],\n",
       "\n",
       "        [[ 72,  73,  74,  75,  76,  77,  78,  79],\n",
       "         [ 80,  81,  82,  83,  84,  85,  86,  87],\n",
       "         [ 88,  89,  90,  91,  92,  93,  94,  95]],\n",
       "\n",
       "        [[ 96,  97,  98,  99, 100, 101, 102, 103],\n",
       "         [104, 105, 106, 107, 108, 109, 110, 111],\n",
       "         [112, 113, 114, 115, 116, 117, 118, 119]]],\n",
       "\n",
       "\n",
       "       [[[120, 121, 122, 123, 124, 125, 126, 127],\n",
       "         [128, 129, 130, 131, 132, 133, 134, 135],\n",
       "         [136, 137, 138, 139, 140, 141, 142, 143]],\n",
       "\n",
       "        [[144, 145, 146, 147, 148, 149, 150, 151],\n",
       "         [152, 153, 154, 155, 156, 157, 158, 159],\n",
       "         [160, 161, 162, 163, 164, 165, 166, 167]],\n",
       "\n",
       "        [[168, 169, 170, 171, 172, 173, 174, 175],\n",
       "         [176, 177, 178, 179, 180, 181, 182, 183],\n",
       "         [184, 185, 186, 187, 188, 189, 190, 191]],\n",
       "\n",
       "        [[192, 193, 194, 195, 196, 197, 198, 199],\n",
       "         [200, 201, 202, 203, 204, 205, 206, 207],\n",
       "         [208, 209, 210, 211, 212, 213, 214, 215]],\n",
       "\n",
       "        [[216, 217, 218, 219, 220, 221, 222, 223],\n",
       "         [224, 225, 226, 227, 228, 229, 230, 231],\n",
       "         [232, 233, 234, 235, 236, 237, 238, 239]]],\n",
       "\n",
       "\n",
       "       [[[240, 241, 242, 243, 244, 245, 246, 247],\n",
       "         [248, 249, 250, 251, 252, 253, 254, 255],\n",
       "         [256, 257, 258, 259, 260, 261, 262, 263]],\n",
       "\n",
       "        [[264, 265, 266, 267, 268, 269, 270, 271],\n",
       "         [272, 273, 274, 275, 276, 277, 278, 279],\n",
       "         [280, 281, 282, 283, 284, 285, 286, 287]],\n",
       "\n",
       "        [[288, 289, 290, 291, 292, 293, 294, 295],\n",
       "         [296, 297, 298, 299, 300, 301, 302, 303],\n",
       "         [304, 305, 306, 307, 308, 309, 310, 311]],\n",
       "\n",
       "        [[312, 313, 314, 315, 316, 317, 318, 319],\n",
       "         [320, 321, 322, 323, 324, 325, 326, 327],\n",
       "         [328, 329, 330, 331, 332, 333, 334, 335]],\n",
       "\n",
       "        [[336, 337, 338, 339, 340, 341, 342, 343],\n",
       "         [344, 345, 346, 347, 348, 349, 350, 351],\n",
       "         [352, 353, 354, 355, 356, 357, 358, 359]]]])"
      ]
     },
     "execution_count": 13,
     "metadata": {},
     "output_type": "execute_result"
    }
   ],
   "source": [
    "# Create a tensor\n",
    "tensor_4d = Tensor(np.arange(360).reshape(3,5,3,8))\n",
    "print(tensor_4d)\n",
    "tensor_4d.data"
   ]
  },
  {
   "cell_type": "code",
   "execution_count": 14,
   "metadata": {},
   "outputs": [
    {
     "name": "stdout",
     "output_type": "stream",
     "text": [
      "This tensor is of order 2 and consists of 360 elements.\n",
      "Sizes and names of its modes are (5, 72) and ['mode-1', 'mode-0_mode-2_mode-3'] respectively.\n"
     ]
    },
    {
     "data": {
      "text/plain": [
       "array([[  0,   1,   2,   3,   4,   5,   6,   7,   8,   9,  10,  11,  12,\n",
       "         13,  14,  15,  16,  17,  18,  19,  20,  21,  22,  23, 120, 121,\n",
       "        122, 123, 124, 125, 126, 127, 128, 129, 130, 131, 132, 133, 134,\n",
       "        135, 136, 137, 138, 139, 140, 141, 142, 143, 240, 241, 242, 243,\n",
       "        244, 245, 246, 247, 248, 249, 250, 251, 252, 253, 254, 255, 256,\n",
       "        257, 258, 259, 260, 261, 262, 263],\n",
       "       [ 24,  25,  26,  27,  28,  29,  30,  31,  32,  33,  34,  35,  36,\n",
       "         37,  38,  39,  40,  41,  42,  43,  44,  45,  46,  47, 144, 145,\n",
       "        146, 147, 148, 149, 150, 151, 152, 153, 154, 155, 156, 157, 158,\n",
       "        159, 160, 161, 162, 163, 164, 165, 166, 167, 264, 265, 266, 267,\n",
       "        268, 269, 270, 271, 272, 273, 274, 275, 276, 277, 278, 279, 280,\n",
       "        281, 282, 283, 284, 285, 286, 287],\n",
       "       [ 48,  49,  50,  51,  52,  53,  54,  55,  56,  57,  58,  59,  60,\n",
       "         61,  62,  63,  64,  65,  66,  67,  68,  69,  70,  71, 168, 169,\n",
       "        170, 171, 172, 173, 174, 175, 176, 177, 178, 179, 180, 181, 182,\n",
       "        183, 184, 185, 186, 187, 188, 189, 190, 191, 288, 289, 290, 291,\n",
       "        292, 293, 294, 295, 296, 297, 298, 299, 300, 301, 302, 303, 304,\n",
       "        305, 306, 307, 308, 309, 310, 311],\n",
       "       [ 72,  73,  74,  75,  76,  77,  78,  79,  80,  81,  82,  83,  84,\n",
       "         85,  86,  87,  88,  89,  90,  91,  92,  93,  94,  95, 192, 193,\n",
       "        194, 195, 196, 197, 198, 199, 200, 201, 202, 203, 204, 205, 206,\n",
       "        207, 208, 209, 210, 211, 212, 213, 214, 215, 312, 313, 314, 315,\n",
       "        316, 317, 318, 319, 320, 321, 322, 323, 324, 325, 326, 327, 328,\n",
       "        329, 330, 331, 332, 333, 334, 335],\n",
       "       [ 96,  97,  98,  99, 100, 101, 102, 103, 104, 105, 106, 107, 108,\n",
       "        109, 110, 111, 112, 113, 114, 115, 116, 117, 118, 119, 216, 217,\n",
       "        218, 219, 220, 221, 222, 223, 224, 225, 226, 227, 228, 229, 230,\n",
       "        231, 232, 233, 234, 235, 236, 237, 238, 239, 336, 337, 338, 339,\n",
       "        340, 341, 342, 343, 344, 345, 346, 347, 348, 349, 350, 351, 352,\n",
       "        353, 354, 355, 356, 357, 358, 359]])"
      ]
     },
     "execution_count": 14,
     "metadata": {},
     "output_type": "execute_result"
    }
   ],
   "source": [
    "# Display unfolded version\n",
    "tensor_4d.unfold(mode=1)\n",
    "print(tensor_4d)\n",
    "tensor_4d.data"
   ]
  },
  {
   "cell_type": "markdown",
   "metadata": {
    "toc-hr-collapsed": false
   },
   "source": [
    "# Mode-n product \n",
    "<img src=\"./imgs/mode_n_product.png\" alt=\"Drawing\" style=\"width: 600px;\"/>\n",
    "\n",
    "The mode-$n$ product is a multiplication of a tensor  by a matrix along the $n^{th}$ mode of a tensor. This essentially means that each mode-$n$ fiber should be multiplied by this matrix. Mathematically, this can be expressed as:\n",
    "\n",
    "$$\\mathbf{\\underline{X}} \\times_n \\mathbf{A} = \\mathbf{\\underline{Y}} \\quad \\Leftrightarrow  \\quad \\mathbf{Y}_{(n)} = \\mathbf{A} \\mathbf{X}_{(n)}  $$"
   ]
  },
  {
   "cell_type": "code",
   "execution_count": null,
   "metadata": {},
   "outputs": [],
   "source": [
    "I, J, K = 2, 3, 4\n",
    "J_new = 5\n",
    "\n",
    "# Create tensor\n",
    "array_3d = np.arange(I * J * K).reshape(I, J ,K)\n",
    "X = Tensor(array_3d)\n",
    "\n",
    "# Create matrix\n",
    "A = np.arange(J_new * J).reshape(J_new, J)\n",
    "\n",
    "# Performs Mode-n product \n",
    "Y = X.mode_n_product(A, mode=1, inplace=False)\n",
    "\n",
    "# Preview of resulting tensor\n",
    "print(Y)\n",
    "\n",
    "# Preview of its unfolded version\n",
    "Y.unfold(mode=1, inplace=False).data"
   ]
  },
  {
   "cell_type": "markdown",
   "metadata": {
    "toc-hr-collapsed": true
   },
   "source": [
    "## **Assignment 4**\n",
    "\n",
    "1. Perform the mode-$n$ product of a 3-rd order tensor, $\\mathbf{\\underline{X}}$, with a matrix, $\\mathbf{A} \\in  \\mathbb{R}^{5 \\times 4}$, provided that the resulting tensor, $\\mathbf{\\underline{Y}}$, consists of `100` elements. Validate your results. \n",
    "\n",
    "> **Note:** You are encouraged to experiment with the optional parameter `inplace` and to investigate its effect on the result."
   ]
  },
  {
   "cell_type": "markdown",
   "metadata": {},
   "source": [
    "### Solution: Part 1"
   ]
  },
  {
   "cell_type": "code",
   "execution_count": 15,
   "metadata": {},
   "outputs": [
    {
     "name": "stdout",
     "output_type": "stream",
     "text": [
      "This tensor is of order 3 and consists of 80 elements.\n",
      "Sizes and names of its modes are (5, 4, 4) and ['mode-0', 'mode-1', 'mode-2'] respectively.\n"
     ]
    },
    {
     "data": {
      "text/plain": [
       "array([[[ 0,  1,  2,  3],\n",
       "        [ 4,  5,  6,  7],\n",
       "        [ 8,  9, 10, 11],\n",
       "        [12, 13, 14, 15]],\n",
       "\n",
       "       [[16, 17, 18, 19],\n",
       "        [20, 21, 22, 23],\n",
       "        [24, 25, 26, 27],\n",
       "        [28, 29, 30, 31]],\n",
       "\n",
       "       [[32, 33, 34, 35],\n",
       "        [36, 37, 38, 39],\n",
       "        [40, 41, 42, 43],\n",
       "        [44, 45, 46, 47]],\n",
       "\n",
       "       [[48, 49, 50, 51],\n",
       "        [52, 53, 54, 55],\n",
       "        [56, 57, 58, 59],\n",
       "        [60, 61, 62, 63]],\n",
       "\n",
       "       [[64, 65, 66, 67],\n",
       "        [68, 69, 70, 71],\n",
       "        [72, 73, 74, 75],\n",
       "        [76, 77, 78, 79]]])"
      ]
     },
     "execution_count": 15,
     "metadata": {},
     "output_type": "execute_result"
    }
   ],
   "source": [
    "# Create original tensor \n",
    "X = Tensor(np.arange(80).reshape((5,4,4)))\n",
    "print(X)\n",
    "X.data"
   ]
  },
  {
   "cell_type": "code",
   "execution_count": 16,
   "metadata": {},
   "outputs": [
    {
     "name": "stdout",
     "output_type": "stream",
     "text": [
      "This tensor is of order 2 and consists of 20 elements.\n",
      "Sizes and names of its modes are (5, 4) and ['mode-0', 'mode-1'] respectively.\n"
     ]
    },
    {
     "data": {
      "text/plain": [
       "array([[ 0,  1,  2,  3],\n",
       "       [ 4,  5,  6,  7],\n",
       "       [ 8,  9, 10, 11],\n",
       "       [12, 13, 14, 15],\n",
       "       [16, 17, 18, 19]])"
      ]
     },
     "execution_count": 16,
     "metadata": {},
     "output_type": "execute_result"
    }
   ],
   "source": [
    "# Create matrix\n",
    "A = Tensor(np.arange(20).reshape((5,4)))\n",
    "print(A)\n",
    "A.data"
   ]
  },
  {
   "cell_type": "code",
   "execution_count": 17,
   "metadata": {},
   "outputs": [
    {
     "name": "stdout",
     "output_type": "stream",
     "text": [
      "This tensor is of order 3 and consists of 100 elements.\n",
      "Sizes and names of its modes are (5, 5, 4) and ['mode-0', 'mode-1', 'mode-2'] respectively. \n",
      "\n",
      "The term \"inplace\" dictates whether to modify the original variable directly or create a new variable with the assigned value.\n"
     ]
    }
   ],
   "source": [
    "# Perform mode-n product \n",
    "Y = X.mode_n_product(A, mode=1, inplace=False)\n",
    "print(Y, '\\n')\n",
    "Y.data\n",
    "print('The term \"inplace\" dictates whether to modify the original variable directly or create a new variable with the assigned value.')"
   ]
  },
  {
   "cell_type": "code",
   "execution_count": 18,
   "metadata": {},
   "outputs": [
    {
     "name": "stdout",
     "output_type": "stream",
     "text": [
      "Equivalence Validated\n"
     ]
    }
   ],
   "source": [
    "# Validate equivalence between the left and right hand side\n",
    "lhs = Y.unfold(mode=1, inplace=False).data\n",
    "rhs = np.matmul(A.data, X.unfold(mode=1, inplace=False).data)\n",
    "\n",
    "if np.array_equal(lhs, rhs):\n",
    "    print('Equivalence Validated')\n",
    "else:\n",
    "    print('Equivalence Not Validated')"
   ]
  },
  {
   "cell_type": "markdown",
   "metadata": {},
   "source": [
    "# Properties of mode-n product\n",
    "\n",
    "1. For distinct modes in a series of multiplications, the order of the multiplication is irrelevent: \n",
    "\n",
    "    $$\\mathbf{\\underline{X}} \\times_n \\mathbf{A} \\times_m \\mathbf{B} = \\mathbf{\\underline{X}} \\times_m \\mathbf{B} \\times_n \\mathbf{A} \\quad (m \\neq n)$$\n",
    "\n",
    "1. However, this does not hold if the modes are the same :\n",
    "\n",
    "    $$\\mathbf{\\underline{X}} \\times_n \\mathbf{A} \\times_n \\mathbf{B} = \\mathbf{\\underline{X}} \\times_n (\\mathbf{B}\\mathbf{A})$$"
   ]
  },
  {
   "cell_type": "markdown",
   "metadata": {
    "toc-hr-collapsed": true
   },
   "source": [
    "## **Assignment 5**\n",
    "\n",
    "1. Validate both of the above properties empirically \n",
    "2. Prove the second property analytically\n",
    "\n",
    "> **Note:** Be aware of consequences of the optional parameter `inplace` (its default value is set to `True`)."
   ]
  },
  {
   "cell_type": "markdown",
   "metadata": {},
   "source": [
    "### Solution: Part 1"
   ]
  },
  {
   "cell_type": "code",
   "execution_count": 19,
   "metadata": {},
   "outputs": [
    {
     "name": "stdout",
     "output_type": "stream",
     "text": [
      "This tensor is of order 3 and consists of 6 elements.\n",
      "Sizes and names of its modes are (1, 2, 3) and ['mode-0', 'mode-1', 'mode-2'] respectively.\n"
     ]
    }
   ],
   "source": [
    "# Create tensor\n",
    "X = Tensor(np.arange(6).reshape((1,2,3)))\n",
    "print(X)"
   ]
  },
  {
   "cell_type": "code",
   "execution_count": 20,
   "metadata": {},
   "outputs": [
    {
     "name": "stdout",
     "output_type": "stream",
     "text": [
      "This tensor is of order 2 and consists of 2 elements.\n",
      "Sizes and names of its modes are (2, 1) and ['mode-0', 'mode-1'] respectively. \n",
      "\n",
      "This tensor is of order 2 and consists of 6 elements.\n",
      "Sizes and names of its modes are (3, 2) and ['mode-0', 'mode-1'] respectively. \n",
      "\n"
     ]
    }
   ],
   "source": [
    "# Create matrices\n",
    "A = Tensor(np.arange(2).reshape((2,1)))\n",
    "B = Tensor(np.arange(6).reshape((3,2)))\n",
    "\n",
    "print(A, '\\n')\n",
    "print(B, '\\n')"
   ]
  },
  {
   "cell_type": "code",
   "execution_count": 21,
   "metadata": {},
   "outputs": [
    {
     "name": "stdout",
     "output_type": "stream",
     "text": [
      "Property 1 Validated\n"
     ]
    }
   ],
   "source": [
    "# Validate property 1\n",
    "prop_1_lhs = X.mode_n_product(A, mode=0, inplace=False).mode_n_product(B, mode=1, inplace=False)\n",
    "prop_1_rhs = X.mode_n_product(B, mode=1, inplace=False).mode_n_product(A, mode=0, inplace=False)\n",
    "\n",
    "if np.array_equal(prop_1_lhs, prop_1_rhs):\n",
    "    print('Property 1 Validated')\n",
    "else:\n",
    "    print('Property 1 Not Validated')"
   ]
  },
  {
   "cell_type": "code",
   "execution_count": 22,
   "metadata": {},
   "outputs": [
    {
     "name": "stdout",
     "output_type": "stream",
     "text": [
      "Property 2 Validated\n"
     ]
    }
   ],
   "source": [
    "# Validate property 2\n",
    "prop_2_lhs = X.mode_n_product(A, mode=0, inplace=False).mode_n_product(B, mode=0, inplace=False)\n",
    "prop_2_rhs = X.mode_n_product(np.matmul(B.data, A.data), mode=0, inplace=False)\n",
    "\n",
    "if np.array_equal(prop_2_lhs, prop_2_rhs):\n",
    "    print('Property 2 Validated')\n",
    "else:\n",
    "    print('Property 2 Not Validated')"
   ]
  },
  {
   "cell_type": "markdown",
   "metadata": {
    "toc-hr-collapsed": true
   },
   "source": [
    "### Solution: Part 2\n",
    "\n",
    "Use [LaTeX syntax](https://stackoverflow.com/questions/13208286/how-to-write-latex-in-ipython-notebook) for analytical derivations for the second property below.\n"
   ]
  },
  {
   "cell_type": "code",
   "execution_count": 23,
   "metadata": {},
   "outputs": [
    {
     "data": {
      "text/latex": [
       "We begin with the mode-$n$ product equation from Assignment 3:\n",
       "$$\\mathbf{\\underline{X}} \\times_n \\mathbf{A} = \\mathbf{\\underline{Y}} \\quad \\Leftrightarrow  \\quad \\mathbf{Y}_{(n)} = \\mathbf{A} \\mathbf{X}_{(n)}  $$\n",
       "Using the expression from the LHS, we multiply both sides by $\\mathbf{B}$:\n",
       "$$\\mathbf{\\underline{X}} \\times_n \\mathbf{A} \\times_n \\mathbf{B} = \\mathbf{\\underline{Y}}  \\times_n \\mathbf{B}  $$\n",
       "Then, we substitute $\\mathbf{A} \\mathbf{X}$ for $\\mathbf{\\underline{Y}}$:\n",
       "$$\\mathbf{\\underline{X}} \\times_n \\mathbf{A} \\times_n \\mathbf{B} = \\mathbf{A} \\mathbf{X}  \\times_n \\mathbf{B}  $$\n",
       "Finally, rearranging gives the result we desire:\n",
       "$$\\mathbf{\\underline{X}} \\times_n \\mathbf{A} \\times_n \\mathbf{B} = \\mathbf{\\underline{X}} \\times_n (\\mathbf{B}\\mathbf{A})$$\n"
      ],
      "text/plain": [
       "<IPython.core.display.Latex object>"
      ]
     },
     "metadata": {},
     "output_type": "display_data"
    }
   ],
   "source": [
    "%%latex\n",
    "We begin with the mode-$n$ product equation from Assignment 3:\n",
    "$$\\mathbf{\\underline{X}} \\times_n \\mathbf{A} = \\mathbf{\\underline{Y}} \\quad \\Leftrightarrow  \\quad \\mathbf{Y}_{(n)} = \\mathbf{A} \\mathbf{X}_{(n)}  $$\n",
    "Using the expression from the LHS, we multiply both sides by $\\mathbf{B}$:\n",
    "$$\\mathbf{\\underline{X}} \\times_n \\mathbf{A} \\times_n \\mathbf{B} = \\mathbf{\\underline{Y}}  \\times_n \\mathbf{B}  $$\n",
    "Then, we substitute $\\mathbf{A} \\mathbf{X}$ for $\\mathbf{\\underline{Y}}$:\n",
    "$$\\mathbf{\\underline{X}} \\times_n \\mathbf{A} \\times_n \\mathbf{B} = \\mathbf{A} \\mathbf{X}  \\times_n \\mathbf{B}  $$\n",
    "Finally, rearranging gives the result we desire:\n",
    "$$\\mathbf{\\underline{X}} \\times_n \\mathbf{A} \\times_n \\mathbf{B} = \\mathbf{\\underline{X}} \\times_n (\\mathbf{B}\\mathbf{A})$$"
   ]
  }
 ],
 "metadata": {
  "kernelspec": {
   "display_name": "dpm-coursework",
   "language": "python",
   "name": "dpm-coursework"
  },
  "language_info": {
   "codemirror_mode": {
    "name": "ipython",
    "version": 3
   },
   "file_extension": ".py",
   "mimetype": "text/x-python",
   "name": "python",
   "nbconvert_exporter": "python",
   "pygments_lexer": "ipython3",
   "version": "3.6.5"
  },
  "toc-autonumbering": false,
  "toc-showcode": false,
  "toc-showmarkdowntxt": false
 },
 "nbformat": 4,
 "nbformat_minor": 4
}
