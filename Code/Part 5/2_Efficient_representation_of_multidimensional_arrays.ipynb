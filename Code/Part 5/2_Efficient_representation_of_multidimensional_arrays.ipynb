{
 "cells": [
  {
   "cell_type": "code",
   "execution_count": 1,
   "metadata": {},
   "outputs": [],
   "source": [
    "%load_ext autoreload\n",
    "%autoreload 2\n",
    "%matplotlib inline"
   ]
  },
  {
   "cell_type": "code",
   "execution_count": 2,
   "metadata": {},
   "outputs": [],
   "source": [
    "import numpy as np\n",
    "import matplotlib.pyplot as plt\n",
    "from hottbox.core import Tensor, TensorCPD, TensorTKD"
   ]
  },
  {
   "cell_type": "markdown",
   "metadata": {
    "toc-hr-collapsed": false
   },
   "source": [
    "[Return to Table of Contents](./0_Table_of_contents.ipynb)"
   ]
  },
  {
   "cell_type": "markdown",
   "metadata": {},
   "source": [
    "# Efficient representation of multidimensional arrays\n",
    "\n",
    "A tensor of order $N$ is said to be of **rank-1** if it can be represented as an outer product of $N$ vectors. \n",
    "\n",
    "The figure below illustrates an example of a rank-1 tensor $\\mathbf{\\underline{X}}$ and provides intuition on how to compute the operation of outer product:\n",
    "\n",
    "<img src=\"./imgs/outerproduct.png\" alt=\"Drawing\" style=\"width: 500px;\"/>\n"
   ]
  },
  {
   "cell_type": "markdown",
   "metadata": {
    "toc-hr-collapsed": false
   },
   "source": [
    "# Kruskal representation\n",
    "\n",
    "For a third order tensor or rank $R$ the Kruskal representation can be expressed as follows:\n",
    "\n",
    "$$\n",
    "\\mathbf{\\underline{X}} = \\sum_{r=1}^R \\mathbf{\\underline{X}}_r = \\sum_{r=1}^R \\lambda_{r} \\cdot \\mathbf{a}_r \\circ \\mathbf{b}_r \\circ \\mathbf{c}_r\n",
    "$$\n",
    "\n",
    "The vectors $\\mathbf{a}_r, \\mathbf{b}_r$ and $\\mathbf{c}_r$ are oftentime combined into the corresponding **factor matrices**:\n",
    "\n",
    "$$\n",
    "\\mathbf{A} = \\Big[ \\mathbf{a}_1 \\cdots \\mathbf{a}_R \\Big] \\quad\n",
    "\\mathbf{B} = \\Big[ \\mathbf{b}_1 \\cdots \\mathbf{b}_R \\Big] \\quad\n",
    "\\mathbf{C} = \\Big[ \\mathbf{c}_1 \\cdots \\mathbf{c}_R \\Big] \\quad\n",
    "$$\n",
    "\n",
    "Thus, if we employ the mode-$n$ product, the **Kruskal representation** takes the form:\n",
    "\n",
    "$$\n",
    "\\mathbf{\\underline{X}} = \\mathbf{\\underline{\\Lambda}} \\times_1 \\mathbf{A} \\times_2 \\mathbf{B} \\times_3 \\mathbf{C} = \\Big[\\mathbf{\\underline{\\Lambda}}; \\mathbf{A}, \\mathbf{B}, \\mathbf{C} \\Big]\n",
    "$$\n",
    "\n",
    "where the elements on the super-diagonal of the core tensor $\\mathbf{\\underline{\\Lambda}}$ are occupied by the values $\\lambda_r$ and all other entries are equal to zero. This can be visualised as shown on figure below:\n",
    "\n",
    "<img src=\"./imgs/TensorCPD.png\" alt=\"Drawing\" style=\"width: 500px;\"/>\n"
   ]
  },
  {
   "cell_type": "code",
   "execution_count": 3,
   "metadata": {},
   "outputs": [
    {
     "name": "stdout",
     "output_type": "stream",
     "text": [
      "Kruskal representation of a tensor with rank=(2,).\n",
      "Factor matrices represent properties: ['mode-0', 'mode-1', 'mode-2']\n",
      "With corresponding latent components described by (3, 4, 5) features respectively.\n"
     ]
    }
   ],
   "source": [
    "# Create factor matrices\n",
    "I, J, K = 3, 4, 5\n",
    "R = 2\n",
    "\n",
    "A = np.arange(I * R).reshape(I, R)\n",
    "B = np.arange(J * R).reshape(J, R)\n",
    "C = np.arange(K * R).reshape(K, R)\n",
    "\n",
    "# Create core values\n",
    "values = np.arange(R)\n",
    "\n",
    "# Create Kruskal representation\n",
    "tensor_cpd = TensorCPD(fmat=[A, B, C], core_values=values)\n",
    "\n",
    "# Result preview\n",
    "print(tensor_cpd)"
   ]
  },
  {
   "cell_type": "markdown",
   "metadata": {},
   "source": [
    "## **Assignment 1**\n",
    "\n",
    "1. What is the order of a tensor if its Kruskal representation consists of 5 factor matrices?\n",
    "\n",
    "2. What is the order of a tensor if its Kruskal representation consists of core tensor which has only 5 elements on the super-diagonal?\n",
    "\n",
    "3. For a 3-rd order tensor that consists of 500 elements, provide three different Kruskal representations.\n",
    "\n",
    "4. For a tensor that consits of 1000 elements, provide three Kruskal representations, each of which should have different number of factor matrices.\n",
    "\n",
    "5. For a 4-th order tensor that consists of 2401 elements, provide Kruskal representation if its core tensor consisting of 81 elements.\n"
   ]
  },
  {
   "cell_type": "markdown",
   "metadata": {},
   "source": [
    "### Solution: Part 1"
   ]
  },
  {
   "cell_type": "code",
   "execution_count": 3,
   "metadata": {},
   "outputs": [
    {
     "name": "stdout",
     "output_type": "stream",
     "text": [
      "The order of a tensor is 5 if its Kruskal representation consists of 5 factor matrices.\n"
     ]
    }
   ],
   "source": [
    "answer_1_1 = \"The order of a tensor is 5 if its Kruskal representation consists of 5 factor matrices.\"  # use this variable for your answer\n",
    "\n",
    "print(answer_1_1)"
   ]
  },
  {
   "cell_type": "markdown",
   "metadata": {},
   "source": [
    "### Solution: Part 2"
   ]
  },
  {
   "cell_type": "code",
   "execution_count": 4,
   "metadata": {},
   "outputs": [
    {
     "name": "stdout",
     "output_type": "stream",
     "text": [
      "The number of elements on the super-diagonal of the core tensor gives you information on the rank of the tensor; it has no correlation with the order of the tensor, so the order is unknown. \n"
     ]
    }
   ],
   "source": [
    "answer_1_2 = \"The number of elements on the super-diagonal of the core tensor gives you information on the rank of the tensor; it has no correlation with the order of the tensor, so the order is unknown. \"  # use this variable for your answer\n",
    "\n",
    "print(answer_1_2)"
   ]
  },
  {
   "cell_type": "markdown",
   "metadata": {},
   "source": [
    "### Solution: Part 3"
   ]
  },
  {
   "cell_type": "code",
   "execution_count": 5,
   "metadata": {},
   "outputs": [
    {
     "name": "stdout",
     "output_type": "stream",
     "text": [
      "Kruskal representation of a tensor with rank=(2,).\n",
      "Factor matrices represent properties: ['mode-0', 'mode-1', 'mode-2']\n",
      "With corresponding latent components described by (50, 2, 5) features respectively. \n",
      "\n",
      "This tensor is of order 3 and consists of 500 elements.\n",
      "Sizes and names of its modes are (50, 2, 5) and ['mode-0', 'mode-1', 'mode-2'] respectively.\n"
     ]
    }
   ],
   "source": [
    "# First representation\n",
    "\n",
    "# Create factor matrices\n",
    "I, J, K = 50, 2, 5\n",
    "R = 2\n",
    "\n",
    "A = np.arange(I * R).reshape(I, R)\n",
    "B = np.arange(J * R).reshape(J, R)\n",
    "C = np.arange(K * R).reshape(K, R)\n",
    "\n",
    "# Create core values\n",
    "values = np.arange(R)\n",
    "\n",
    "# Create Kruskal representation\n",
    "tensor_cpd1 = TensorCPD(fmat=[A, B, C], core_values=values)\n",
    "tensor_recon = tensor_cpd1.reconstruct()\n",
    "\n",
    "# Result preview\n",
    "print(tensor_cpd1, '\\n')\n",
    "print(tensor_recon)"
   ]
  },
  {
   "cell_type": "code",
   "execution_count": 6,
   "metadata": {},
   "outputs": [
    {
     "name": "stdout",
     "output_type": "stream",
     "text": [
      "Kruskal representation of a tensor with rank=(2,).\n",
      "Factor matrices represent properties: ['mode-0', 'mode-1', 'mode-2']\n",
      "With corresponding latent components described by (25, 5, 4) features respectively. \n",
      "\n",
      "This tensor is of order 3 and consists of 500 elements.\n",
      "Sizes and names of its modes are (25, 5, 4) and ['mode-0', 'mode-1', 'mode-2'] respectively.\n"
     ]
    }
   ],
   "source": [
    "# Second representation\n",
    "\n",
    "# Create factor matrices\n",
    "I, J, K = 25, 5, 4\n",
    "R = 2\n",
    "\n",
    "A = np.arange(I * R).reshape(I, R)\n",
    "B = np.arange(J * R).reshape(J, R)\n",
    "C = np.arange(K * R).reshape(K, R)\n",
    "\n",
    "# Create core values\n",
    "values = np.arange(R)\n",
    "\n",
    "# Create Kruskal representation\n",
    "tensor_cpd2 = TensorCPD(fmat=[A, B, C], core_values=values)\n",
    "tensor_recon = tensor_cpd2.reconstruct()\n",
    "\n",
    "# Result preview\n",
    "print(tensor_cpd2, '\\n')\n",
    "print(tensor_recon)"
   ]
  },
  {
   "cell_type": "code",
   "execution_count": 7,
   "metadata": {},
   "outputs": [
    {
     "name": "stdout",
     "output_type": "stream",
     "text": [
      "Kruskal representation of a tensor with rank=(2,).\n",
      "Factor matrices represent properties: ['mode-0', 'mode-1', 'mode-2']\n",
      "With corresponding latent components described by (5, 10, 10) features respectively. \n",
      "\n",
      "This tensor is of order 3 and consists of 500 elements.\n",
      "Sizes and names of its modes are (5, 10, 10) and ['mode-0', 'mode-1', 'mode-2'] respectively.\n"
     ]
    }
   ],
   "source": [
    "# Third representation\n",
    "\n",
    "# Create factor matrices\n",
    "I, J, K = 5, 10, 10\n",
    "R = 2\n",
    "\n",
    "A = np.arange(I * R).reshape(I, R)\n",
    "B = np.arange(J * R).reshape(J, R)\n",
    "C = np.arange(K * R).reshape(K, R)\n",
    "\n",
    "# Create core values\n",
    "values = np.arange(R)\n",
    "\n",
    "# Create Kruskal representation\n",
    "tensor_cpd3 = TensorCPD(fmat=[A, B, C], core_values=values)\n",
    "tensor_recon = tensor_cpd3.reconstruct()\n",
    "\n",
    "# Result preview\n",
    "print(tensor_cpd3, '\\n')\n",
    "print(tensor_recon)"
   ]
  },
  {
   "cell_type": "markdown",
   "metadata": {
    "toc-hr-collapsed": false
   },
   "source": [
    "### Solution: Part 4"
   ]
  },
  {
   "cell_type": "code",
   "execution_count": 8,
   "metadata": {},
   "outputs": [
    {
     "name": "stdout",
     "output_type": "stream",
     "text": [
      "Kruskal representation of a tensor with rank=(2,).\n",
      "Factor matrices represent properties: ['mode-0', 'mode-1']\n",
      "With corresponding latent components described by (100, 10) features respectively. \n",
      "\n",
      "This tensor is of order 2 and consists of 1000 elements.\n",
      "Sizes and names of its modes are (100, 10) and ['mode-0', 'mode-1'] respectively.\n"
     ]
    }
   ],
   "source": [
    "# First representation\n",
    "\n",
    "# Create factor matrices\n",
    "I, J = 100, 10\n",
    "R = 2\n",
    "\n",
    "A = np.arange(I * R).reshape(I, R)\n",
    "B = np.arange(J * R).reshape(J, R)\n",
    "\n",
    "# Create core values\n",
    "values = np.arange(R)\n",
    "\n",
    "# Create Kruskal representation\n",
    "tensor_cpd1 = TensorCPD(fmat=[A, B], core_values=values)\n",
    "tensor_recon = tensor_cpd1.reconstruct()\n",
    "\n",
    "# Result preview\n",
    "print(tensor_cpd1, '\\n')\n",
    "print(tensor_recon)"
   ]
  },
  {
   "cell_type": "code",
   "execution_count": 9,
   "metadata": {},
   "outputs": [
    {
     "name": "stdout",
     "output_type": "stream",
     "text": [
      "Kruskal representation of a tensor with rank=(2,).\n",
      "Factor matrices represent properties: ['mode-0', 'mode-1', 'mode-2']\n",
      "With corresponding latent components described by (25, 5, 8) features respectively. \n",
      "\n",
      "This tensor is of order 3 and consists of 1000 elements.\n",
      "Sizes and names of its modes are (25, 5, 8) and ['mode-0', 'mode-1', 'mode-2'] respectively.\n"
     ]
    }
   ],
   "source": [
    "# Second representation\n",
    "\n",
    "# Create factor matrices\n",
    "I, J, K = 25, 5, 8\n",
    "R = 2\n",
    "\n",
    "A = np.arange(I * R).reshape(I, R)\n",
    "B = np.arange(J * R).reshape(J, R)\n",
    "C = np.arange(K * R).reshape(K, R)\n",
    "\n",
    "# Create core values\n",
    "values = np.arange(R)\n",
    "\n",
    "# Create Kruskal representation\n",
    "tensor_cpd2 = TensorCPD(fmat=[A, B, C], core_values=values)\n",
    "tensor_recon = tensor_cpd2.reconstruct()\n",
    "\n",
    "# Result preview\n",
    "print(tensor_cpd2, '\\n')\n",
    "print(tensor_recon)"
   ]
  },
  {
   "cell_type": "code",
   "execution_count": 10,
   "metadata": {},
   "outputs": [
    {
     "name": "stdout",
     "output_type": "stream",
     "text": [
      "Kruskal representation of a tensor with rank=(2,).\n",
      "Factor matrices represent properties: ['mode-0', 'mode-1', 'mode-2', 'mode-3']\n",
      "With corresponding latent components described by (25, 5, 4, 2) features respectively. \n",
      "\n",
      "This tensor is of order 4 and consists of 1000 elements.\n",
      "Sizes and names of its modes are (25, 5, 4, 2) and ['mode-0', 'mode-1', 'mode-2', 'mode-3'] respectively.\n"
     ]
    }
   ],
   "source": [
    "# Third representation\n",
    "\n",
    "# Create factor matrices\n",
    "I, J, K, L = 25, 5, 4, 2\n",
    "R = 2\n",
    "\n",
    "A = np.arange(I * R).reshape(I, R)\n",
    "B = np.arange(J * R).reshape(J, R)\n",
    "C = np.arange(K * R).reshape(K, R)\n",
    "D = np.arange(L * R).reshape(L, R)\n",
    "\n",
    "# Create core values\n",
    "values = np.arange(R)\n",
    "\n",
    "# Create Kruskal representation\n",
    "tensor_cpd3 = TensorCPD(fmat=[A, B, C, D], core_values=values)\n",
    "tensor_recon = tensor_cpd3.reconstruct()\n",
    "\n",
    "# Result preview\n",
    "print(tensor_cpd3, '\\n')\n",
    "print(tensor_recon)"
   ]
  },
  {
   "cell_type": "markdown",
   "metadata": {},
   "source": [
    "### Solution: Part 5"
   ]
  },
  {
   "cell_type": "code",
   "execution_count": 11,
   "metadata": {},
   "outputs": [
    {
     "name": "stdout",
     "output_type": "stream",
     "text": [
      "Kruskal representation of a tensor with rank=(3,).\n",
      "Factor matrices represent properties: ['mode-0', 'mode-1', 'mode-2', 'mode-3']\n",
      "With corresponding latent components described by (7, 7, 7, 7) features respectively. \n",
      "\n",
      "This tensor is of order 4 and consists of 2401 elements.\n",
      "Sizes and names of its modes are (7, 7, 7, 7) and ['mode-0', 'mode-1', 'mode-2', 'mode-3'] respectively.\n"
     ]
    }
   ],
   "source": [
    "# Provide Kruskal representation here\n",
    "\n",
    "# Create factor matrices\n",
    "I, J, K, L = 7, 7, 7, 7\n",
    "R = 3 # 81 elements = 3x3x3x3 \n",
    "\n",
    "A = np.arange(I * R).reshape(I, R)\n",
    "B = np.arange(J * R).reshape(J, R)\n",
    "C = np.arange(K * R).reshape(K, R)\n",
    "D = np.arange(L * R).reshape(L, R)\n",
    "\n",
    "# Create core values\n",
    "values = np.arange(R)\n",
    "\n",
    "# Create Kruskal representation\n",
    "tensor_cpd = TensorCPD(fmat=[A, B, C, D], core_values=values)\n",
    "tensor_recon = tensor_cpd.reconstruct()\n",
    "\n",
    "# Result preview\n",
    "print(tensor_cpd, '\\n')\n",
    "print(tensor_recon)"
   ]
  },
  {
   "cell_type": "markdown",
   "metadata": {
    "toc-hr-collapsed": false
   },
   "source": [
    "# Tucker representation\n",
    "\n"
   ]
  },
  {
   "cell_type": "markdown",
   "metadata": {},
   "source": [
    "<img src=\"./imgs/TensorTKD.png\" alt=\"Drawing\" style=\"width: 600px;\"/>\n",
    "\n",
    "For a tensor $\\mathbf{\\underline{X}} \\in \\mathbb{R}^{I \\times J \\times K}$ illustrated above, the **Tucker form** represents the tensor in hand through a dense core tensor $\\mathbf{\\underline{G}}$ with multi-linear rank ($Q, R, P$) and a set of accompanying factor matrices $\\mathbf{A} \\in \\mathbb{R}^{I \\times Q}, \\mathbf{B} \\in \\mathbb{R}^{J \\times R}$ and $\\mathbf{C} \\in \\mathbb{R}^{K \\times P}$.\n",
    "\n",
    "$$\n",
    "\\mathbf{\\underline{X}} = \\sum_{q=1}^Q \\sum_{r=1}^R \\sum_{p=1}^P \\mathbf{\\underline{X}}_{qrp} = \\sum_{q=1}^Q \\sum_{r=1}^R \\sum_{p=1}^P g_{qrp} \\cdot \\mathbf{a}_q \\circ \\mathbf{b}_r \\circ \\mathbf{c}_p\n",
    "$$\n",
    "\n",
    "The Tucker form of a tensor is closely related to the Kruskal representation and can be expressed through a \n",
    "sequence of mode-$n$ products in a similar way, that is\n",
    "\n",
    "$$\n",
    "\\mathbf{\\underline{X}} = \\mathbf{\\underline{G}} \\times_1 \\mathbf{A} \\times_2 \\mathbf{B} \\times_3 \\mathbf{C} = \\Big[\\mathbf{\\underline{G}}; \\mathbf{A}, \\mathbf{B}, \\mathbf{C} \\Big]\n",
    "$$\n"
   ]
  },
  {
   "cell_type": "code",
   "execution_count": 13,
   "metadata": {},
   "outputs": [
    {
     "name": "stdout",
     "output_type": "stream",
     "text": [
      "Tucker representation of a tensor with multi-linear rank=(2, 3, 4).\n",
      "Factor matrices represent properties: ['mode-0', 'mode-1', 'mode-2']\n",
      "With corresponding latent components described by (5, 6, 7) features respectively.\n"
     ]
    }
   ],
   "source": [
    "# Create factor matrices\n",
    "I, J, K = 5, 6, 7  # define shape of the tensor in full form\n",
    "Q, R, P = 2, 3, 4  # define multi-linear rank of the tensor in Tucker form\n",
    "\n",
    "A = np.arange(I * Q).reshape(I, Q)\n",
    "B = np.arange(J * R).reshape(J, R)\n",
    "C = np.arange(K * P).reshape(K, P)\n",
    "\n",
    "# Create core values\n",
    "values = np.arange(Q * R * P).reshape(Q, R, P)\n",
    "\n",
    "# Create Tucker representation\n",
    "tensor_tkd = TensorTKD(fmat=[A, B, C], core_values=values)\n",
    "\n",
    "# Result preview\n",
    "print(tensor_tkd)"
   ]
  },
  {
   "cell_type": "markdown",
   "metadata": {},
   "source": [
    "## **Assignment 2**\n",
    "\n",
    "1. Core tensor of a Tucker representation consists of 1848 elements. Explain what tensor order would allow a tensor to be represented in such form.\n",
    "\n",
    "2. For a 4-th order tensor that consists of 1000 elements, provide three different Tucker representations.\n",
    "\n",
    "3. For a 3-rd order tensor that consists of 500 elements, provide three different Tucker representations given that its core tensor consists of 42 elements.\n",
    "\n",
    "4. Provide an intuition behind the main difference between the Tucker and Kruskal representations.\n"
   ]
  },
  {
   "cell_type": "markdown",
   "metadata": {},
   "source": [
    "### Solution: Part 1"
   ]
  },
  {
   "cell_type": "code",
   "execution_count": 12,
   "metadata": {},
   "outputs": [
    {
     "name": "stdout",
     "output_type": "stream",
     "text": [
      "A tensor's order is equal to the Tucker core tensor order. Given that the core tensor of a Tucker representation consists of 1848 elements, the prime factorisation of 1848 is (2,2,2,3,7,11). Therefore, the tensor's order falls within the range [1,6].\n"
     ]
    }
   ],
   "source": [
    "answer_2_1 = \"A tensor's order is equal to the Tucker core tensor order. Given that the core tensor of a Tucker representation consists of 1848 elements, the prime factorisation of 1848 is (2,2,2,3,7,11). Therefore, the tensor's order falls within the range [1,6].\"  # use this variable for your answer\n",
    "\n",
    "print(answer_2_1)"
   ]
  },
  {
   "cell_type": "markdown",
   "metadata": {},
   "source": [
    "### Solution: Part 2"
   ]
  },
  {
   "cell_type": "code",
   "execution_count": 13,
   "metadata": {},
   "outputs": [
    {
     "name": "stdout",
     "output_type": "stream",
     "text": [
      "Tucker representation of a tensor with multi-linear rank=(2, 3, 4, 5).\n",
      "Factor matrices represent properties: ['mode-0', 'mode-1', 'mode-2', 'mode-3']\n",
      "With corresponding latent components described by (10, 10, 5, 2) features respectively. \n",
      "\n",
      "This tensor is of order 4 and consists of 1000 elements.\n",
      "Sizes and names of its modes are (10, 10, 5, 2) and ['mode-0', 'mode-1', 'mode-2', 'mode-3'] respectively.\n"
     ]
    }
   ],
   "source": [
    "# First representation\n",
    "\n",
    "# Create factor matrices\n",
    "I, J, K, L = 10, 10, 5, 2  # define shape of the tensor in full form\n",
    "P, Q, R, S = 2, 3, 4, 5  # define multi-linear rank of the tensor in Tucker form\n",
    "\n",
    "A = np.arange(I * P).reshape(I, P)\n",
    "B = np.arange(J * Q).reshape(J, Q)\n",
    "C = np.arange(K * R).reshape(K, R)\n",
    "D = np.arange(L * S).reshape(L, S)\n",
    "\n",
    "# Create core values\n",
    "values = np.arange(P * Q * R * S).reshape(P, Q, R, S)\n",
    "\n",
    "# Create Tucker representation\n",
    "tensor_tkd1 = TensorTKD(fmat=[A, B, C, D], core_values=values)\n",
    "tensor_recon = tensor_tkd1.reconstruct()\n",
    "\n",
    "# Result preview\n",
    "print(tensor_tkd1, '\\n')\n",
    "print(tensor_recon)"
   ]
  },
  {
   "cell_type": "code",
   "execution_count": 14,
   "metadata": {},
   "outputs": [
    {
     "name": "stdout",
     "output_type": "stream",
     "text": [
      "Tucker representation of a tensor with multi-linear rank=(1, 2, 3, 4).\n",
      "Factor matrices represent properties: ['mode-0', 'mode-1', 'mode-2', 'mode-3']\n",
      "With corresponding latent components described by (50, 5, 2, 2) features respectively. \n",
      "\n",
      "This tensor is of order 4 and consists of 1000 elements.\n",
      "Sizes and names of its modes are (50, 5, 2, 2) and ['mode-0', 'mode-1', 'mode-2', 'mode-3'] respectively.\n"
     ]
    }
   ],
   "source": [
    "# Second representation\n",
    "\n",
    "# Create factor matrices\n",
    "I, J, K, L = 50, 5, 2, 2  # define shape of the tensor in full form\n",
    "P, Q, R, S = 1, 2, 3, 4  # define multi-linear rank of the tensor in Tucker form\n",
    "\n",
    "A = np.arange(I * P).reshape(I, P)\n",
    "B = np.arange(J * Q).reshape(J, Q)\n",
    "C = np.arange(K * R).reshape(K, R)\n",
    "D = np.arange(L * S).reshape(L, S)\n",
    "\n",
    "# Create core values\n",
    "values = np.arange(P * Q * R * S).reshape(P, Q, R, S)\n",
    "\n",
    "# Create Tucker representation\n",
    "tensor_tkd2 = TensorTKD(fmat=[A, B, C, D], core_values=values)\n",
    "tensor_recon = tensor_tkd2.reconstruct()\n",
    "\n",
    "# Result preview\n",
    "print(tensor_tkd2, '\\n')\n",
    "print(tensor_recon)"
   ]
  },
  {
   "cell_type": "code",
   "execution_count": 15,
   "metadata": {},
   "outputs": [
    {
     "name": "stdout",
     "output_type": "stream",
     "text": [
      "Tucker representation of a tensor with multi-linear rank=(5, 6, 7, 8).\n",
      "Factor matrices represent properties: ['mode-0', 'mode-1', 'mode-2', 'mode-3']\n",
      "With corresponding latent components described by (25, 5, 4, 2) features respectively. \n",
      "\n",
      "This tensor is of order 4 and consists of 1000 elements.\n",
      "Sizes and names of its modes are (25, 5, 4, 2) and ['mode-0', 'mode-1', 'mode-2', 'mode-3'] respectively.\n"
     ]
    }
   ],
   "source": [
    "# Third representation\n",
    "\n",
    "# Create factor matrices\n",
    "I, J, K, L = 25, 5, 4, 2  # define shape of the tensor in full form\n",
    "P, Q, R, S = 5, 6, 7, 8  # define multi-linear rank of the tensor in Tucker form\n",
    "\n",
    "A = np.arange(I * P).reshape(I, P)\n",
    "B = np.arange(J * Q).reshape(J, Q)\n",
    "C = np.arange(K * R).reshape(K, R)\n",
    "D = np.arange(L * S).reshape(L, S)\n",
    "\n",
    "# Create core values\n",
    "values = np.arange(P * Q * R * S).reshape(P, Q, R, S)\n",
    "\n",
    "# Create Tucker representation\n",
    "tensor_tkd3 = TensorTKD(fmat=[A, B, C, D], core_values=values)\n",
    "tensor_recon = tensor_tkd3.reconstruct()\n",
    "\n",
    "# Result preview\n",
    "print(tensor_tkd3, '\\n')\n",
    "print(tensor_recon)"
   ]
  },
  {
   "cell_type": "markdown",
   "metadata": {},
   "source": [
    "### Solution: Part 3"
   ]
  },
  {
   "cell_type": "code",
   "execution_count": 16,
   "metadata": {},
   "outputs": [
    {
     "name": "stdout",
     "output_type": "stream",
     "text": [
      "Tucker representation of a tensor with multi-linear rank=(7, 6, 1).\n",
      "Factor matrices represent properties: ['mode-0', 'mode-1', 'mode-2']\n",
      "With corresponding latent components described by (10, 10, 5) features respectively. \n",
      "\n",
      "This tensor is of order 3 and consists of 500 elements.\n",
      "Sizes and names of its modes are (10, 10, 5) and ['mode-0', 'mode-1', 'mode-2'] respectively. \n",
      "\n",
      "Core Tensor\n",
      "This tensor is of order 3 and consists of 42 elements.\n",
      "Sizes and names of its modes are (7, 6, 1) and ['mode-0', 'mode-1', 'mode-2'] respectively.\n"
     ]
    }
   ],
   "source": [
    "# First representation\n",
    "\n",
    "# Create factor matrices\n",
    "I, J, K = 10, 10, 5  # define shape of the tensor in full form\n",
    "P, Q, R = 7, 6, 1 # define multi-linear rank of the tensor in Tucker form\n",
    "\n",
    "A = np.arange(I * P).reshape(I, P)\n",
    "B = np.arange(J * Q).reshape(J, Q)\n",
    "C = np.arange(K * R).reshape(K, R)\n",
    "\n",
    "# Create core values\n",
    "values = np.arange(P * Q * R).reshape(P, Q, R)\n",
    "\n",
    "# Create Tucker representation\n",
    "tensor_tkd1 = TensorTKD(fmat=[A, B, C], core_values=values)\n",
    "tensor_recon = tensor_tkd1.reconstruct()\n",
    "\n",
    "# Result preview\n",
    "print(tensor_tkd1, '\\n')\n",
    "print(tensor_recon, '\\n')\n",
    "print('Core Tensor')\n",
    "print(tensor_tkd1.core)"
   ]
  },
  {
   "cell_type": "code",
   "execution_count": 17,
   "metadata": {},
   "outputs": [
    {
     "name": "stdout",
     "output_type": "stream",
     "text": [
      "Tucker representation of a tensor with multi-linear rank=(7, 2, 3).\n",
      "Factor matrices represent properties: ['mode-0', 'mode-1', 'mode-2']\n",
      "With corresponding latent components described by (25, 4, 5) features respectively. \n",
      "\n",
      "This tensor is of order 3 and consists of 500 elements.\n",
      "Sizes and names of its modes are (25, 4, 5) and ['mode-0', 'mode-1', 'mode-2'] respectively. \n",
      "\n",
      "Core Tensor\n",
      "This tensor is of order 3 and consists of 42 elements.\n",
      "Sizes and names of its modes are (7, 2, 3) and ['mode-0', 'mode-1', 'mode-2'] respectively.\n"
     ]
    }
   ],
   "source": [
    "# Second representation\n",
    "\n",
    "# Create factor matrices\n",
    "I, J, K = 25, 4, 5  # define shape of the tensor in full form\n",
    "P, Q, R = 7, 2, 3 # define multi-linear rank of the tensor in Tucker form\n",
    "\n",
    "A = np.arange(I * P).reshape(I, P)\n",
    "B = np.arange(J * Q).reshape(J, Q)\n",
    "C = np.arange(K * R).reshape(K, R)\n",
    "\n",
    "# Create core values\n",
    "values = np.arange(P * Q * R).reshape(P, Q, R)\n",
    "\n",
    "# Create Tucker representation\n",
    "tensor_tkd2 = TensorTKD(fmat=[A, B, C], core_values=values)\n",
    "tensor_recon = tensor_tkd2.reconstruct()\n",
    "\n",
    "# Result preview\n",
    "print(tensor_tkd2, '\\n')\n",
    "print(tensor_recon, '\\n')\n",
    "print('Core Tensor')\n",
    "print(tensor_tkd2.core)"
   ]
  },
  {
   "cell_type": "code",
   "execution_count": 18,
   "metadata": {},
   "outputs": [
    {
     "name": "stdout",
     "output_type": "stream",
     "text": [
      "Tucker representation of a tensor with multi-linear rank=(14, 3, 1).\n",
      "Factor matrices represent properties: ['mode-0', 'mode-1', 'mode-2']\n",
      "With corresponding latent components described by (50, 5, 2) features respectively. \n",
      "\n",
      "This tensor is of order 3 and consists of 500 elements.\n",
      "Sizes and names of its modes are (50, 5, 2) and ['mode-0', 'mode-1', 'mode-2'] respectively. \n",
      "\n",
      "Core Tensor\n",
      "This tensor is of order 3 and consists of 42 elements.\n",
      "Sizes and names of its modes are (14, 3, 1) and ['mode-0', 'mode-1', 'mode-2'] respectively.\n"
     ]
    }
   ],
   "source": [
    "# Third representation\n",
    "\n",
    "# Create factor matrices\n",
    "I, J, K = 50, 5, 2  # define shape of the tensor in full form\n",
    "P, Q, R = 14, 3, 1 # define multi-linear rank of the tensor in Tucker form\n",
    "\n",
    "A = np.arange(I * P).reshape(I, P)\n",
    "B = np.arange(J * Q).reshape(J, Q)\n",
    "C = np.arange(K * R).reshape(K, R)\n",
    "\n",
    "# Create core values\n",
    "values = np.arange(P * Q * R).reshape(P, Q, R)\n",
    "\n",
    "# Create Tucker representation\n",
    "tensor_tkd3 = TensorTKD(fmat=[A, B, C], core_values=values)\n",
    "tensor_recon = tensor_tkd3.reconstruct()\n",
    "\n",
    "# Result preview\n",
    "print(tensor_tkd3, '\\n')\n",
    "print(tensor_recon, '\\n')\n",
    "print('Core Tensor')\n",
    "print(tensor_tkd3.core)"
   ]
  },
  {
   "cell_type": "markdown",
   "metadata": {},
   "source": [
    "### Solution: Part 4"
   ]
  },
  {
   "cell_type": "code",
   "execution_count": 19,
   "metadata": {},
   "outputs": [
    {
     "name": "stdout",
     "output_type": "stream",
     "text": [
      "The main disparity between Tucker and Kruskal representations lies in their treatment of the core tensor. In the Kruskal representation, the core tensor is restricted to diagonal elements, limiting its expressiveness. Conversely, Tucker representation allows for a denser core tensor, offering greater flexibility in capturing complex relationships. This distinction arises from the way multilinearity and rank are accounted for in each representation.\n"
     ]
    }
   ],
   "source": [
    "answer_2_4 = \"The main disparity between Tucker and Kruskal representations lies in their treatment of the core tensor. In the Kruskal representation, the core tensor is restricted to diagonal elements, limiting its expressiveness. Conversely, Tucker representation allows for a denser core tensor, offering greater flexibility in capturing complex relationships. This distinction arises from the way multilinearity and rank are accounted for in each representation.\"  # use this variable for your answer\n",
    "\n",
    "print(answer_2_4)"
   ]
  }
 ],
 "metadata": {
  "kernelspec": {
   "display_name": "dpm-coursework",
   "language": "python",
   "name": "dpm-coursework"
  },
  "language_info": {
   "codemirror_mode": {
    "name": "ipython",
    "version": 3
   },
   "file_extension": ".py",
   "mimetype": "text/x-python",
   "name": "python",
   "nbconvert_exporter": "python",
   "pygments_lexer": "ipython3",
   "version": "3.6.5"
  },
  "toc-autonumbering": false,
  "toc-showcode": false
 },
 "nbformat": 4,
 "nbformat_minor": 4
}
